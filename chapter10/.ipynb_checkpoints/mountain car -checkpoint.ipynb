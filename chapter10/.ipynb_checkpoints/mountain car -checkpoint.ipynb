{
 "cells": [
  {
   "cell_type": "markdown",
   "metadata": {},
   "source": [
    "### Mountain Car\n",
    "\n",
    "1. 문제: \n",
    "2. 조건\n",
    "    - state: 자동차의 위치($x_t$)\n",
    "    - action: 앞으로 가속(+1), 뒤로 가속(-1), 가속 없음(0)\n",
    "    - reward: 모든 time step(-1), 꼭대기에 도달 시(0)\n",
    "    - terminal: 꼭대기\n",
    "    - 고려 사항: \n",
    "        - 왼쪽 끝에 도달 시 위치가 0으로 reset 됨. \n",
    "        - 속도는 \n",
    "3. 학습 목표\n",
    "    - Episodic Semi-gradient Sarsa"
   ]
  },
  {
   "cell_type": "code",
   "execution_count": 1,
   "metadata": {
    "collapsed": true
   },
   "outputs": [],
   "source": [
    "import numpy as np\n",
    "from math import cos\n",
    "from random import uniform\n",
    "from TileCoding import *"
   ]
  },
  {
   "cell_type": "code",
   "execution_count": 2,
   "metadata": {
    "collapsed": true
   },
   "outputs": [],
   "source": [
    "ACTION_REVERSE = -1\n",
    "ACTION_ZERO = 0\n",
    "ACTION_FORWARD = 1\n",
    "ACTIONS = [ACTION_REVERSE, ACTION_ZERO, ACTION_FORWARD]\n",
    "\n",
    "# bound for position and velocity\n",
    "POSITION_MIN = -1.2\n",
    "POSITION_MAX = 0.5\n",
    "VELOCITY_MIN = -0.07\n",
    "VELOCITY_MAX = 0.07"
   ]
  },
  {
   "cell_type": "code",
   "execution_count": 56,
   "metadata": {
    "collapsed": true
   },
   "outputs": [],
   "source": [
    "class MountainCar:\n",
    "    \n",
    "    def __init__(self):\n",
    "        self.reset()\n",
    "        \n",
    "    def step(self, action):\n",
    "        done = False\n",
    "        reward = -1\n",
    "        self.velocity = self.velocity + 0.001 * action - 0.0025 * cos(3 * self.state)\n",
    "        self.velocity = max(min(self.velocity, VELOCITY_MAX), VELOCITY_MIN)\n",
    "        self.state += self.velocity\n",
    "        self.state = max(min(self.state, POSITION_MAX), POSITION_MIN)\n",
    "        if self.state == POSITION_MIN:\n",
    "            self.velocity = 0 \n",
    "        elif self.state == POSITION_MAX:\n",
    "            done = True\n",
    "            reward = 0\n",
    "        return (self.state, self.velocity), reward, done\n",
    "    \n",
    "    def reset(self):\n",
    "        self.state = uniform(-0.6, -0.4)\n",
    "        self.velocity = 0 \n",
    "        return (self.state, self.velocity)"
   ]
  },
  {
   "cell_type": "code",
   "execution_count": 87,
   "metadata": {
    "collapsed": true
   },
   "outputs": [],
   "source": [
    "env = MountainCar()"
   ]
  },
  {
   "cell_type": "code",
   "execution_count": 88,
   "metadata": {},
   "outputs": [
    {
     "data": {
      "text/plain": [
       "(-0.4711940734531411, 0)"
      ]
     },
     "execution_count": 88,
     "metadata": {},
     "output_type": "execute_result"
    }
   ],
   "source": [
    "env.reset()"
   ]
  },
  {
   "cell_type": "code",
   "execution_count": 130,
   "metadata": {},
   "outputs": [],
   "source": [
    "state, velo = env.step(1)[0]\n",
    "state, velo = state * position_scale, velo * velocity_scale"
   ]
  },
  {
   "cell_type": "code",
   "execution_count": 90,
   "metadata": {
    "collapsed": true
   },
   "outputs": [],
   "source": [
    "hash_table = IHT(2048)"
   ]
  },
  {
   "cell_type": "code",
   "execution_count": 131,
   "metadata": {
    "scrolled": true
   },
   "outputs": [
    {
     "data": {
      "text/plain": [
       "[8, 9, 10, 11, 12, 13, 14, 15]"
      ]
     },
     "execution_count": 131,
     "metadata": {},
     "output_type": "execute_result"
    }
   ],
   "source": [
    "tiles(hash_table, 8, [state, velo], [1])"
   ]
  },
  {
   "cell_type": "code",
   "execution_count": 132,
   "metadata": {
    "scrolled": true
   },
   "outputs": [
    {
     "data": {
      "text/plain": [
       "{(0, -3, -1, -1): 0,\n",
       " (0, -3, -1, 0): 16,\n",
       " (0, -3, -1, 1): 8,\n",
       " (0, -3, 0, 0): 25,\n",
       " (0, -3, 0, 1): 24,\n",
       " (1, -3, 0, -1): 1,\n",
       " (1, -3, 0, 0): 17,\n",
       " (1, -3, 0, 1): 9,\n",
       " (2, -2, 0, -1): 2,\n",
       " (2, -2, 0, 0): 18,\n",
       " (2, -2, 0, 1): 10,\n",
       " (3, -2, 1, -1): 3,\n",
       " (3, -2, 1, 0): 19,\n",
       " (3, -2, 1, 1): 11,\n",
       " (4, -2, 1, -1): 4,\n",
       " (4, -2, 1, 0): 20,\n",
       " (4, -2, 1, 1): 12,\n",
       " (5, -2, 1, -1): 5,\n",
       " (5, -2, 1, 0): 21,\n",
       " (5, -2, 1, 1): 13,\n",
       " (6, -2, 2, -1): 6,\n",
       " (6, -2, 2, 0): 22,\n",
       " (6, -2, 2, 1): 14,\n",
       " (7, -2, 2, -1): 7,\n",
       " (7, -2, 2, 0): 23,\n",
       " (7, -2, 2, 1): 15}"
      ]
     },
     "execution_count": 132,
     "metadata": {},
     "output_type": "execute_result"
    }
   ],
   "source": [
    "hash_table.dictionary"
   ]
  },
  {
   "cell_type": "code",
   "execution_count": 43,
   "metadata": {
    "collapsed": true
   },
   "outputs": [],
   "source": [
    "position_scale = 8 / (POSITION_MAX - POSITION_MIN)\n",
    "velocity_scale = 8 / (VELOCITY_MAX - VELOCITY_MIN)"
   ]
  },
  {
   "cell_type": "code",
   "execution_count": null,
   "metadata": {
    "collapsed": true
   },
   "outputs": [],
   "source": [
    "tiles(hash_table, 8, [0, ])"
   ]
  },
  {
   "cell_type": "code",
   "execution_count": null,
   "metadata": {
    "collapsed": true
   },
   "outputs": [],
   "source": [
    "class ValueFunction:\n",
    "    # In this example I use the tiling software instead of implementing standard tiling by myself\n",
    "    # One important thing is that tiling is only a map from (state, action) to a series of indices\n",
    "    # It doesn't matter whether the indices have meaning, only if this map satisfy some property\n",
    "    # View the following webpage for more information\n",
    "    # http://incompleteideas.net/sutton/tiles/tiles3.html\n",
    "    # @maxSize: the maximum # of indices\n",
    "    # max_size가 2048이라는 건 전체 tile에 대한 weight 수가 2048개라는 것이고 tiling이 8개니까 space를 dim당 16개로 쪼갠거다. \n",
    "    def __init__(self, step_size, num_tilings=8, max_size=2048):\n",
    "        self.max_size = max_size\n",
    "        self.num_tilings = num_tilings\n",
    "\n",
    "        # divide step size equally to each tiling\n",
    "        self.step_size = step_size / num_tilings\n",
    "\n",
    "        self.hash_table = IHT(max_size)\n",
    "\n",
    "        # weight for each tile\n",
    "        self.weights = np.zeros(max_size)\n",
    "\n",
    "        # position and velocity needs scaling to satisfy the tile software\n",
    "        self.position_scale = self.num_tilings / (POSITION_MAX - POSITION_MIN)\n",
    "        self.velocity_scale = self.num_tilings / (VELOCITY_MAX - VELOCITY_MIN)\n",
    "\n",
    "    # get indices of active tiles for given state and action\n",
    "    def get_active_tiles(self, position, velocity, action):\n",
    "        # I think positionScale * (position - position_min) would be a good normalization.\n",
    "        # However positionScale * position_min is a constant, so it's ok to ignore it.\n",
    "        active_tiles = tiles(self.hash_table, self.num_tilings,\n",
    "                            [self.position_scale * position, self.velocity_scale * velocity],\n",
    "                            [action])\n",
    "        return active_tiles\n",
    "\n",
    "    # estimate the value of given state and action\n",
    "    def value(self, position, velocity, action):\n",
    "        if position == POSITION_MAX:\n",
    "            return 0.0\n",
    "        active_tiles = self.get_active_tiles(position, velocity, action)\n",
    "        return np.sum(self.weights[active_tiles])\n",
    "\n",
    "    # learn with given state, action and target\n",
    "    def learn(self, position, velocity, action, target):\n",
    "        active_tiles = self.get_active_tiles(position, velocity, action)\n",
    "        estimation = np.sum(self.weights[active_tiles])\n",
    "        delta = self.stepSize * (target - estimation)\n",
    "        for active_tile in active_tiles:\n",
    "            self.weights[active_tile] += delta\n",
    "\n",
    "    # get # of steps to reach the goal under current state value function\n",
    "    def cost_to_go(self, position, velocity):\n",
    "        costs = []\n",
    "        for action in ACTIONS:\n",
    "            costs.append(self.value(position, velocity, action))\n",
    "        return -np.max(costs)"
   ]
  },
  {
   "cell_type": "code",
   "execution_count": 6,
   "metadata": {
    "collapsed": true
   },
   "outputs": [],
   "source": [
    "from TileCoding import *"
   ]
  },
  {
   "cell_type": "code",
   "execution_count": 8,
   "metadata": {
    "collapsed": true
   },
   "outputs": [],
   "source": [
    "hashtable = IHT(1000)"
   ]
  },
  {
   "cell_type": "code",
   "execution_count": 11,
   "metadata": {},
   "outputs": [
    {
     "data": {
      "text/plain": [
       "[0, 1, 2, 3, 4, 5, 6, 7]"
      ]
     },
     "execution_count": 11,
     "metadata": {},
     "output_type": "execute_result"
    }
   ],
   "source": [
    "tiles(hashtable, 8, [0.5, 0.5], [1, 1])"
   ]
  },
  {
   "cell_type": "code",
   "execution_count": null,
   "metadata": {
    "collapsed": true
   },
   "outputs": [],
   "source": []
  }
 ],
 "metadata": {
  "kernelspec": {
   "display_name": "Python 3",
   "language": "python",
   "name": "python3"
  },
  "language_info": {
   "codemirror_mode": {
    "name": "ipython",
    "version": 3
   },
   "file_extension": ".py",
   "mimetype": "text/x-python",
   "name": "python",
   "nbconvert_exporter": "python",
   "pygments_lexer": "ipython3",
   "version": "3.6.1"
  }
 },
 "nbformat": 4,
 "nbformat_minor": 2
}
