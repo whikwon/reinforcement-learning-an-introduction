{
 "cells": [
  {
   "cell_type": "markdown",
   "metadata": {},
   "source": [
    "### Gambler's Problem\n",
    "\n",
    "1. 문제: gambler가 일정한 확률을 가진 동전을 던져서 자신의 자본 내에서 도박을 할 때 최적의 value function, policy를 구해보자.\n",
    "2. 조건\n",
    "    - state: gambler의 자본\n",
    "    - action: 자신의 자본 내에서 1~전체를 배팅한다. (동전이 앞 면인 경우 배팅한 만큼 벌고 뒷 면인 경우 잃는다.)\n",
    "    - reward: $100을 채우면 +1, 그 외에는 0이다.\n",
    "3. 학습 목표\n",
    "    - Value iteration"
   ]
  },
  {
   "cell_type": "markdown",
   "metadata": {},
   "source": [
    "### Value Iteration\n",
    "\n",
    "최적의 value function을 구한 뒤 이로부터 optimal policy를 구하는 방법이다. Bellman optimality equation을 사용한다."
   ]
  },
  {
   "cell_type": "code",
   "execution_count": 1,
   "metadata": {
    "collapsed": true
   },
   "outputs": [],
   "source": [
    "import numpy as np"
   ]
  },
  {
   "cell_type": "code",
   "execution_count": 2,
   "metadata": {
    "collapsed": true
   },
   "outputs": [],
   "source": [
    "MAX_CAPITAL = 100\n",
    "HEAD_PROB = 0.4\n",
    "\n",
    "class Gambler:\n",
    "    def __init__(self):\n",
    "        self.nS = MAX_CAPITAL \n",
    "                \n",
    "    def step(self, state, action):\n",
    "        if state + action == 100:\n",
    "            head_up = [[HEAD_PROB, 1, 100, True]]\n",
    "        else:\n",
    "            head_up = [[HEAD_PROB, 0, state + action, False]]\n",
    "        \n",
    "        if state - action == 0:\n",
    "            head_dn = [[1 - HEAD_PROB, 0, 0, True]]\n",
    "        else:\n",
    "            head_dn = [[1 - HEAD_PROB, 0, state - action, False]]\n",
    "        return head_up + head_dn"
   ]
  },
  {
   "cell_type": "code",
   "execution_count": 3,
   "metadata": {
    "collapsed": true
   },
   "outputs": [],
   "source": [
    "def value_iteration(env, discount_factor, theta=1e-8):\n",
    "    V = np.zeros(env.nS + 1)\n",
    "    while True:\n",
    "        delta = 0 \n",
    "        for s in range(1, env.nS):\n",
    "            vsum = []\n",
    "            for a in range(min(MAX_CAPITAL - s + 1, s + 1)):\n",
    "                v = 0\n",
    "                for (prob, reward, next_state, done) in env.step(s, a):\n",
    "                    v += prob * (reward + discount_factor * V[next_state])\n",
    "                vsum.append(v)\n",
    "            delta = max(delta, np.abs(max(vsum) - V[s]))\n",
    "            V[s] = max(vsum)\n",
    "        if delta < theta:\n",
    "            break\n",
    "    \n",
    "    # policy improvement\n",
    "    policy = np.zeros(env.nS)\n",
    "    for s in range(1, env.nS):\n",
    "        vsum = []\n",
    "        for a in range(min(MAX_CAPITAL - s + 1, s + 1)):\n",
    "            v = 0\n",
    "            for (prob, reward, next_state, done) in env.step(s, a):\n",
    "                v += prob * (reward + discount_factor * V[next_state])\n",
    "            vsum.append(v)\n",
    "        policy[s] = np.argmax(vsum)\n",
    "    return V, policy"
   ]
  },
  {
   "cell_type": "code",
   "execution_count": 4,
   "metadata": {
    "collapsed": true
   },
   "outputs": [],
   "source": [
    "env = Gambler()\n",
    "value, policy = value_iteration(env, discount_factor=1.0)"
   ]
  },
  {
   "cell_type": "code",
   "execution_count": 5,
   "metadata": {},
   "outputs": [
    {
     "data": {
      "text/plain": [
       "array([ 0.        ,  0.00206562,  0.00516406,  0.00922547,  0.01291015,\n",
       "        0.0173854 ,  0.02306368,  0.02781411,  0.03227539,  0.03768507,\n",
       "        0.0434635 ,  0.05035447,  0.05765919,  0.06523937,  0.06953528,\n",
       "        0.07443124,  0.08068847,  0.08661104,  0.09421268,  0.10314362,\n",
       "        0.10865874,  0.11596663,  0.12588617,  0.13357998,  0.14414799,\n",
       "        0.16      ,  0.16309844,  0.16774609,  0.17383821,  0.17936523,\n",
       "        0.1860781 ,  0.19459552,  0.20172117,  0.20841308,  0.21652761,\n",
       "        0.22519525,  0.2355317 ,  0.24648879,  0.25785906,  0.26430292,\n",
       "        0.27164686,  0.2810327 ,  0.28991657,  0.30131902,  0.31471544,\n",
       "        0.32298812,  0.33394994,  0.34882926,  0.36036996,  0.37622198,\n",
       "        0.4       ,  0.40309844,  0.40774609,  0.41383821,  0.41936523,\n",
       "        0.4260781 ,  0.43459552,  0.44172117,  0.44841308,  0.45652761,\n",
       "        0.46519525,  0.4755317 ,  0.48648879,  0.49785906,  0.50430292,\n",
       "        0.51164686,  0.5210327 ,  0.52991657,  0.54131902,  0.55471544,\n",
       "        0.56298812,  0.57394994,  0.58882926,  0.60036996,  0.61622198,\n",
       "        0.64      ,  0.64464766,  0.65161914,  0.66075731,  0.66904785,\n",
       "        0.67911715,  0.69189327,  0.70258175,  0.71261962,  0.72479141,\n",
       "        0.73779287,  0.75329756,  0.76973319,  0.78678859,  0.79645439,\n",
       "        0.80747029,  0.82154905,  0.83487485,  0.85197853,  0.87207316,\n",
       "        0.88448217,  0.90092491,  0.92324389,  0.94055495,  0.96433297,  0.        ])"
      ]
     },
     "execution_count": 5,
     "metadata": {},
     "output_type": "execute_result"
    }
   ],
   "source": [
    "value"
   ]
  },
  {
   "cell_type": "code",
   "execution_count": 6,
   "metadata": {},
   "outputs": [
    {
     "data": {
      "image/png": "[encoded data removed]",
      "text/plain": [
       "<matplotlib.figure.Figure at 0x7f7384767dd8>"
      ]
     },
     "metadata": {},
     "output_type": "display_data"
    }
   ],
   "source": [
    "import matplotlib.pyplot as plt\n",
    "plt.plot(value[:-1], c='b')\n",
    "plt.xlabel('Capital')\n",
    "plt.ylabel('Value estimates')\n",
    "plt.show()"
   ]
  },
  {
   "cell_type": "code",
   "execution_count": 8,
   "metadata": {},
   "outputs": [
    {
     "data": {
      "image/png": "[encoded data removed]",
      "text/plain": [
       "<matplotlib.figure.Figure at 0x7f73824902b0>"
      ]
     },
     "metadata": {},
     "output_type": "display_data"
    }
   ],
   "source": [
    "plt.scatter(np.arange(env.nS), policy, c='b', s=5)\n",
    "plt.xlabel('Capital')\n",
    "plt.ylabel('Final Policy(stake)')\n",
    "plt.show()"
   ]
  },
  {
   "cell_type": "code",
   "execution_count": null,
   "metadata": {
    "collapsed": true
   },
   "outputs": [],
   "source": []
  }
 ],
 "metadata": {
  "kernelspec": {
   "display_name": "Python 3",
   "language": "python",
   "name": "python3"
  },
  "language_info": {
   "codemirror_mode": {
    "name": "ipython",
    "version": 3
   },
   "file_extension": ".py",
   "mimetype": "text/x-python",
   "name": "python",
   "nbconvert_exporter": "python",
   "pygments_lexer": "ipython3",
   "version": "3.6.1"
  }
 },
 "nbformat": 4,
 "nbformat_minor": 2
}
