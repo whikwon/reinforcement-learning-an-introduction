{
 "cells": [
  {
   "cell_type": "markdown",
   "metadata": {},
   "source": [
    "### Gambler's Problem\n",
    "\n",
    "1. 문제: gambler가 일정한 확률을 가진 동전을 던져 자신의 자본 내에서 도박을 한다. 이 때, 최적의 value function, policy를 구해보자.\n",
    "2. 조건\n",
    "    - state: gambler의 자본\n",
    "    - action: 자신의 자본 내에서 1~전체를 배팅한다. (자동으로 동전이 던져지며 앞 면인 경우 배팅한 만큼 벌고 뒷 면인 경우 그만큼 잃는다.)\n",
    "    - reward: $100을 채우면 +1, 그 외에는 0이다.\n",
    "3. 학습 목표\n",
    "    - Value iteration"
   ]
  },
  {
   "cell_type": "code",
   "execution_count": 9,
   "metadata": {},
   "outputs": [],
   "source": [
    "import numpy as np\n",
    "import matplotlib.pyplot as plt\n",
    "\n",
    "%matplotlib inline"
   ]
  },
  {
   "cell_type": "markdown",
   "metadata": {},
   "source": [
    "#### Gambler\n",
    "- 동전의 앞 면이 나올 확률은 40%, 뒷 면이 나올 확률은 60%이다.\n",
    "- terminal state 100을 초과해서 배팅하는 경우는 없다고 가정한다."
   ]
  },
  {
   "cell_type": "code",
   "execution_count": 2,
   "metadata": {},
   "outputs": [],
   "source": [
    "MAX_CAPITAL = 100\n",
    "HEAD_PROB = 0.4\n",
    "\n",
    "class Gambler:\n",
    "    def __init__(self):\n",
    "        self.nS = MAX_CAPITAL  \n",
    "                \n",
    "    def step(self, state, action):\n",
    "        if state + action == 100:\n",
    "            head_up = [[HEAD_PROB, 1, 100, True]]\n",
    "        else:\n",
    "            head_up = [[HEAD_PROB, 0, state + action, False]]\n",
    "        \n",
    "        if state - action == 0:\n",
    "            head_dn = [[1 - HEAD_PROB, 0, 0, True]]\n",
    "        else:\n",
    "            head_dn = [[1 - HEAD_PROB, 0, state - action, False]]\n",
    "        return head_up + head_dn"
   ]
  },
  {
   "cell_type": "markdown",
   "metadata": {},
   "source": [
    "#### Value Iteration\n",
    "value iteration은 bellman optimality equation을 update 방식으로 변경해서 optimal value function을 구한다. $v_{\\ast}$가 존재할 때 $k \\rightarrow \\infty$의 조건에서 $v_{k+1}$은 $v_{\\ast}$에 수렴한다.\n",
    "$$\\begin{align}\n",
    "v_{k+1}(s) &\\doteq \\max_a \\mathbb{E}[R_{t+1} + \\gamma v_k(S_{t+1}) \\lvert S_t=s, A_t=a] \\\\\n",
    "&= \\max_a \\displaystyle \\sum_{s', r} p(s',r \\lvert s,a) \\big [r+\\gamma v_k(s') \\big ] \n",
    "\\end{align}$$\n",
    "\n",
    "![value iteration](../images/value_iteration.png)\n",
    "<center> 출처: Reinforcement Learning : An Introduction. Richard S. Sutton and Andrew G. Barto. 2017 (pp. 67) </center>"
   ]
  },
  {
   "cell_type": "code",
   "execution_count": 3,
   "metadata": {},
   "outputs": [],
   "source": [
    "def value_iteration(env, discount_factor, theta=1e-100):\n",
    "    V = np.zeros(env.nS + 1)\n",
    "    while True:\n",
    "        delta = 0 \n",
    "        for s in range(1, env.nS):\n",
    "            vsum = []\n",
    "            for a in range(1, min(MAX_CAPITAL - s + 1, s + 1)):\n",
    "                v = 0\n",
    "                for (prob, reward, next_state, done) in env.step(s, a):\n",
    "                    v += prob * (reward + discount_factor * V[next_state])\n",
    "                vsum.append(v)\n",
    "            delta = max(delta, np.abs(max(vsum) - V[s]))\n",
    "            V[s] = max(vsum)\n",
    "        if delta < theta:\n",
    "            break\n",
    "    \n",
    "    # policy improvement\n",
    "    policy = np.zeros(env.nS)\n",
    "    for s in range(1, env.nS):\n",
    "        vsum = []\n",
    "        for a in range(1, min(MAX_CAPITAL - s + 1, s + 1)):\n",
    "            v = 0\n",
    "            for (prob, reward, next_state, done) in env.step(s, a):\n",
    "                v += prob * (reward + discount_factor * V[next_state])\n",
    "            vsum.append(v)\n",
    "        policy[s] = np.argmax(vsum) + 1\n",
    "    return V, policy"
   ]
  },
  {
   "cell_type": "code",
   "execution_count": 11,
   "metadata": {},
   "outputs": [
    {
     "name": "stdout",
     "output_type": "stream",
     "text": [
      "[ 0.          0.00206562  0.00516406  0.00922547  0.01291015  0.0173854\n",
      "  0.02306368  0.02781411  0.03227539  0.03768507  0.0434635   0.05035447\n",
      "  0.05765919  0.06523937  0.06953528  0.07443124  0.08068847  0.08661104\n",
      "  0.09421268  0.10314362  0.10865874  0.11596663  0.12588617  0.13357998\n",
      "  0.14414799  0.16        0.16309844  0.16774609  0.17383821  0.17936523\n",
      "  0.1860781   0.19459552  0.20172117  0.20841308  0.21652761  0.22519525\n",
      "  0.2355317   0.24648879  0.25785906  0.26430292  0.27164686  0.2810327\n",
      "  0.28991657  0.30131902  0.31471544  0.32298812  0.33394994  0.34882926\n",
      "  0.36036996  0.37622198  0.4         0.40309844  0.40774609  0.41383821\n",
      "  0.41936523  0.4260781   0.43459552  0.44172117  0.44841308  0.45652761\n",
      "  0.46519525  0.4755317   0.48648879  0.49785906  0.50430292  0.51164686\n",
      "  0.5210327   0.52991657  0.54131902  0.55471544  0.56298812  0.57394994\n",
      "  0.58882926  0.60036996  0.61622198  0.64        0.64464766  0.65161914\n",
      "  0.66075731  0.66904785  0.67911715  0.69189327  0.70258175  0.71261962\n",
      "  0.72479141  0.73779287  0.75329756  0.76973319  0.78678859  0.79645439\n",
      "  0.80747029  0.82154905  0.83487485  0.85197853  0.87207316  0.88448217\n",
      "  0.90092491  0.92324389  0.94055495  0.96433297  0.        ]\n"
     ]
    }
   ],
   "source": [
    "env = Gambler()\n",
    "value, policy = value_iteration(env, discount_factor=1.0)\n",
    "print(value)"
   ]
  },
  {
   "cell_type": "markdown",
   "metadata": {},
   "source": [
    "#### Figure 4.3\n",
    "- Capital(자본)에 대한 value function 추정치를 나타낸다.\n",
    "- Capital(자본)에 대한 optiimal policy를 나타낸다. "
   ]
  },
  {
   "cell_type": "code",
   "execution_count": 12,
   "metadata": {},
   "outputs": [
    {
     "data": {
      "text/plain": [
       "[<matplotlib.lines.Line2D at 0x7fd608c50470>]"
      ]
     },
     "execution_count": 12,
     "metadata": {},
     "output_type": "execute_result"
    },
    {
     "data": {
      "text/plain": [
       "<matplotlib.text.Text at 0x7fd608d485f8>"
      ]
     },
     "execution_count": 12,
     "metadata": {},
     "output_type": "execute_result"
    },
    {
     "data": {
      "text/plain": [
       "<matplotlib.text.Text at 0x7fd608cef0f0>"
      ]
     },
     "execution_count": 12,
     "metadata": {},
     "output_type": "execute_result"
    },
    {
     "data": {
      "image/png": "[encoded data removed]",
      "text/plain": [
       "<matplotlib.figure.Figure at 0x7fd608cd1438>"
      ]
     },
     "metadata": {},
     "output_type": "display_data"
    }
   ],
   "source": [
    "plt.plot(value[:-1], c='b')\n",
    "plt.xlabel('Capital')\n",
    "plt.ylabel('Value estimates')\n",
    "plt.show()"
   ]
  },
  {
   "cell_type": "code",
   "execution_count": 13,
   "metadata": {},
   "outputs": [
    {
     "data": {
      "text/plain": [
       "[<matplotlib.lines.Line2D at 0x7fd608c21080>]"
      ]
     },
     "execution_count": 13,
     "metadata": {},
     "output_type": "execute_result"
    },
    {
     "data": {
      "text/plain": [
       "<matplotlib.text.Text at 0x7fd60b188630>"
      ]
     },
     "execution_count": 13,
     "metadata": {},
     "output_type": "execute_result"
    },
    {
     "data": {
      "text/plain": [
       "<matplotlib.text.Text at 0x7fd608c754a8>"
      ]
     },
     "execution_count": 13,
     "metadata": {},
     "output_type": "execute_result"
    },
    {
     "data": {
      "image/png": "[encoded data removed]",
      "text/plain": [
       "<matplotlib.figure.Figure at 0x7fd608c87c18>"
      ]
     },
     "metadata": {},
     "output_type": "display_data"
    }
   ],
   "source": [
    "plt.plot(np.arange(env.nS), policy, c='b')\n",
    "plt.xlabel('Capital')\n",
    "plt.ylabel('Final Policy(stake)')\n",
    "plt.show()"
   ]
  }
 ],
 "metadata": {
  "kernelspec": {
   "display_name": "Python 3.6",
   "language": "python",
   "name": "base"
  },
  "language_info": {
   "codemirror_mode": {
    "name": "ipython",
    "version": 3
   },
   "file_extension": ".py",
   "mimetype": "text/x-python",
   "name": "python",
   "nbconvert_exporter": "python",
   "pygments_lexer": "ipython3",
   "version": "3.6.1"
  }
 },
 "nbformat": 4,
 "nbformat_minor": 2
}
