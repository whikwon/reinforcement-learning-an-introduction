{
 "cells": [
  {
   "cell_type": "markdown",
   "metadata": {},
   "source": [
    "### Car Rental\n",
    "\n",
    "1. 문제: 두 군데 장소에서 자동차 렌트 서비스를 한다고 했을 때 각 장소에 차의 대수를 얼마로 유지하는게 좋을지 푸는 문제이다. \n",
    "2. 조건\n",
    "    - state: A,B 장소 별 자동차 대수\n",
    "    - action: 자동차를 최대 5대까지 옮길 수 있다. (단 방향으로)\n",
    "    - reward: 자동차를 렌트해줄 경우 \\$10, 자동차 장소를 옮길 때 -\\$2\n",
    "    - 진행 순서: \n",
    "        - 자동차를 옮긴다. (action)\n",
    "        - 자동차 렌트 요청이 온다. \n",
    "        - 자동차 return을 받는다. \n",
    "3. 학습 목표\n",
    "    - policy iteration  "
   ]
  },
  {
   "cell_type": "markdown",
   "metadata": {},
   "source": [
    "고려 사항\n",
    "- rental 가능한 차의 대수는 최대 10대이다. 각 장소 당.\n",
    "- 교환은 단 방향으로만 진행된다. \n"
   ]
  },
  {
   "cell_type": "markdown",
   "metadata": {},
   "source": [
    "깨달음\n",
    "- episodic, terminal이 있는 경우에는 초기값을 `env.reset()`으로 가져오고 `env` 내에 state 저장하면서 `env.step(action)` 으로 이 후 값들에 대해서 가져오기 가능\n",
    "- episodic이 아니고 DP의 경우에는 table 값이 전부다 주어져있다고 생각하고 진행하니까 table을 구하고 시작해야 함. "
   ]
  },
  {
   "cell_type": "code",
   "execution_count": 1,
   "metadata": {
    "collapsed": true
   },
   "outputs": [],
   "source": [
    "import numpy as np\n",
    "from math import factorial, exp\n",
    "from collections import defaultdict\n",
    "from itertools import count"
   ]
  },
  {
   "cell_type": "code",
   "execution_count": 2,
   "metadata": {
    "collapsed": true
   },
   "outputs": [],
   "source": [
    "# 문제에 대한 정보들\n",
    "MAX_CARS = 20\n",
    "MAX_MOVE_OF_CARS = 5\n",
    "# for lambda \n",
    "A_RENTAL_REQUEST = 3\n",
    "B_RENTAL_REQUEST = 4\n",
    "A_RENTAL_RETURN = 3\n",
    "B_RENTAL_RETURN = 2\n",
    "DISCOUNT = 0.9\n",
    "RENTAL_CREDIT = 10\n",
    "MOVE_CAR_COST = 2\n",
    "actions = np.arange(-MAX_MOVE_OF_CARS, MAX_MOVE_OF_CARS + 1)\n",
    "\n",
    "POISSON_UP_BOUND = 11"
   ]
  },
  {
   "cell_type": "code",
   "execution_count": 3,
   "metadata": {
    "collapsed": true
   },
   "outputs": [],
   "source": [
    "poissonBackup = dict()\n",
    "def poisson(n, lam):\n",
    "    global poissonBackup\n",
    "    key = n * 10 + lam\n",
    "    if key not in poissonBackup.keys():\n",
    "        poissonBackup[key] = exp(-lam) * pow(lam, n) / factorial(n)\n",
    "    return poissonBackup[key]"
   ]
  },
  {
   "cell_type": "code",
   "execution_count": 4,
   "metadata": {
    "collapsed": true
   },
   "outputs": [],
   "source": [
    "# action: -면 B에서 A로, +면 A에서 B로, action은 지금 state보다 클 수 없다. (뒤에서 구현)\n",
    "\n",
    "class CarRental:\n",
    "    def __init__(self, constant_return=True):\n",
    "        self.P = defaultdict(lambda: [[] for i in range(MAX_MOVE_OF_CARS*2 + 1)])\n",
    "        self.constant_return = True\n",
    "        \n",
    "    def step(self, state, action):\n",
    "        a, b = state\n",
    "        if self.P[state][action]:\n",
    "            return self.P[state][action]\n",
    "        else:\n",
    "            for a_rental_request in range(POISSON_UP_BOUND):\n",
    "                for b_rental_request in range(POISSON_UP_BOUND):\n",
    "                    # moving cars\n",
    "                    num_a_cars = int(min((a - action), MAX_CARS))\n",
    "                    num_b_cars = int(min((b + action), MAX_CARS))\n",
    "\n",
    "                    # rental request\n",
    "                    real_a_rental_request = min(a_rental_request, num_a_cars)\n",
    "                    real_b_rental_request = min(b_rental_request, num_b_cars)\n",
    "\n",
    "                    # rental request prob (based on # of requested cars)\n",
    "                    a_rental_request_prob = poisson(a_rental_request, A_RENTAL_REQUEST) \n",
    "                    b_rental_request_prob = poisson(b_rental_request, B_RENTAL_REQUEST)\n",
    "\n",
    "                    prob = a_rental_request_prob * b_rental_request_prob\n",
    "                    reward = (a_rental_request + b_rental_request) * RENTAL_CREDIT - abs(action) * MOVE_CAR_COST\n",
    "                    num_a_cars -= real_a_rental_request \n",
    "                    num_b_cars -= real_b_rental_request\n",
    "                    prob_ = prob\n",
    "                    \n",
    "                    if self.constant_return:\n",
    "                        a_rental_return = 3\n",
    "                        b_rental_return = 2\n",
    "                        next_a = min(num_a_cars + a_rental_return, MAX_CARS)\n",
    "                        next_b = min(num_b_cars + b_rental_return, MAX_CARS)                        \n",
    "                    else:\n",
    "                        # rental return \n",
    "                        for a_rental_return in range(POISSON_UP_BOUND):\n",
    "                            for b_rental_return in range(POISSON_UP_BOUND):                                                \n",
    "                                a_rental_return_prob = poisson(a_rental_return, A_RENTAL_RETURN)\n",
    "                                b_rental_return_prob = poisson(b_rental_return, B_RENTAL_RETURN)\n",
    "                                next_a = min(num_a_cars + a_rental_return, MAX_CARS)\n",
    "                                next_b = min(num_b_cars + b_rental_return, MAX_CARS)\n",
    "                                prob = prob_ * a_rental_return_prob * b_rental_return_prob\n",
    "                    self.P[state][action].append([prob, [next_a, next_b], reward, False])                                          \n",
    "            return self.P[state][action]"
   ]
  },
  {
   "cell_type": "code",
   "execution_count": 8,
   "metadata": {
    "collapsed": true
   },
   "outputs": [],
   "source": [
    "def policy_evaluation(env, discount_factor=0.9, theta=1e-2):    \n",
    "    V = np.zeros([MAX_CARS + 1, MAX_CARS + 1])\n",
    "    policy = np.zeros([MAX_CARS + 1, MAX_CARS + 1])\n",
    "    while True:\n",
    "        delta = 0\n",
    "        for a_s in range(V.shape[0]):\n",
    "            for b_s in range(V.shape[1]):\n",
    "                v = V[a_s][b_s]\n",
    "                for action in actions:\n",
    "                    if action < 0 and abs(action) <= b_s:\n",
    "                        cases = env.step((a_s, b_s), action)                        \n",
    "                    elif action >= 0 and abs(action) <= a_s:\n",
    "                        cases = env.step((a_s, b_s), action)\n",
    "                    else:\n",
    "                        continue\n",
    "                    for (prob, next_state, reward, done) in cases:\n",
    "                        V[a_s][b_s] += prob * (reward + discount_factor * V[next_state[0] - 1][next_state[1] - 1])               \n",
    "                delta = max(delta, np.abs(v - V[a_s][b_s]))\n",
    "        print(delta)\n",
    "        if delta < theta:\n",
    "            break                        \n",
    "    return V"
   ]
  },
  {
   "cell_type": "code",
   "execution_count": 9,
   "metadata": {
    "scrolled": true
   },
   "outputs": [
    {
     "name": "stdout",
     "output_type": "stream",
     "text": [
      "0,2.54694375092e+12\n",
      "1,5.4454432225e+14\n",
      "2,7.86316766063e+16\n",
      "3,1.0088952383e+19\n",
      "4,1.24978812158e+21\n",
      "5,1.53337850233e+23\n",
      "6,1.87672570347e+25\n",
      "7,2.29560089196e+27\n",
      "8,2.80758166943e+29\n",
      "9,3.43364066332e+31\n",
      "10,4.19927427212e+33\n",
      "11,5.13562093294e+35\n",
      "12,6.28075032496e+37\n",
      "13,7.68121754961e+39\n",
      "14,9.39395756926e+41\n",
      "15,1.14886003317e+44\n",
      "16,1.40503016436e+46\n",
      "17,1.71832051375e+48\n",
      "18,"
     ]
    },
    {
     "ename": "KeyboardInterrupt",
     "evalue": "",
     "output_type": "error",
     "traceback": [
      "\u001b[0;31m---------------------------------------------------------------------------\u001b[0m",
      "\u001b[0;31mKeyboardInterrupt\u001b[0m                         Traceback (most recent call last)",
      "\u001b[0;32m<ipython-input-9-ea7435de1b0b>\u001b[0m in \u001b[0;36m<module>\u001b[0;34m()\u001b[0m\n\u001b[1;32m      1\u001b[0m \u001b[0menv\u001b[0m \u001b[0;34m=\u001b[0m \u001b[0mCarRental\u001b[0m\u001b[0;34m(\u001b[0m\u001b[0;34m)\u001b[0m\u001b[0;34m\u001b[0m\u001b[0m\n\u001b[0;32m----> 2\u001b[0;31m \u001b[0mvalue\u001b[0m \u001b[0;34m=\u001b[0m \u001b[0mpolicy_evaluation\u001b[0m\u001b[0;34m(\u001b[0m\u001b[0menv\u001b[0m\u001b[0;34m)\u001b[0m\u001b[0;34m\u001b[0m\u001b[0m\n\u001b[0m",
      "\u001b[0;32m<ipython-input-8-b890c2b303ff>\u001b[0m in \u001b[0;36mpolicy_evaluation\u001b[0;34m(env, discount_factor, theta)\u001b[0m\n\u001b[1;32m     16\u001b[0m                         \u001b[0;32mcontinue\u001b[0m\u001b[0;34m\u001b[0m\u001b[0m\n\u001b[1;32m     17\u001b[0m                     \u001b[0;32mfor\u001b[0m \u001b[0;34m(\u001b[0m\u001b[0mprob\u001b[0m\u001b[0;34m,\u001b[0m \u001b[0mnext_state\u001b[0m\u001b[0;34m,\u001b[0m \u001b[0mreward\u001b[0m\u001b[0;34m,\u001b[0m \u001b[0mdone\u001b[0m\u001b[0;34m)\u001b[0m \u001b[0;32min\u001b[0m \u001b[0mcases\u001b[0m\u001b[0;34m:\u001b[0m\u001b[0;34m\u001b[0m\u001b[0m\n\u001b[0;32m---> 18\u001b[0;31m                         \u001b[0mV\u001b[0m\u001b[0;34m[\u001b[0m\u001b[0ma_s\u001b[0m\u001b[0;34m]\u001b[0m\u001b[0;34m[\u001b[0m\u001b[0mb_s\u001b[0m\u001b[0;34m]\u001b[0m \u001b[0;34m+=\u001b[0m \u001b[0mprob\u001b[0m \u001b[0;34m*\u001b[0m \u001b[0;34m(\u001b[0m\u001b[0mreward\u001b[0m \u001b[0;34m+\u001b[0m \u001b[0mdiscount_factor\u001b[0m \u001b[0;34m*\u001b[0m \u001b[0mV\u001b[0m\u001b[0;34m[\u001b[0m\u001b[0mnext_state\u001b[0m\u001b[0;34m[\u001b[0m\u001b[0;36m0\u001b[0m\u001b[0;34m]\u001b[0m \u001b[0;34m-\u001b[0m \u001b[0;36m1\u001b[0m\u001b[0;34m]\u001b[0m\u001b[0;34m[\u001b[0m\u001b[0mnext_state\u001b[0m\u001b[0;34m[\u001b[0m\u001b[0;36m1\u001b[0m\u001b[0;34m]\u001b[0m \u001b[0;34m-\u001b[0m \u001b[0;36m1\u001b[0m\u001b[0;34m]\u001b[0m\u001b[0;34m)\u001b[0m\u001b[0;34m\u001b[0m\u001b[0m\n\u001b[0m\u001b[1;32m     19\u001b[0m                 \u001b[0mdelta\u001b[0m \u001b[0;34m=\u001b[0m \u001b[0mmax\u001b[0m\u001b[0;34m(\u001b[0m\u001b[0mdelta\u001b[0m\u001b[0;34m,\u001b[0m \u001b[0mnp\u001b[0m\u001b[0;34m.\u001b[0m\u001b[0mabs\u001b[0m\u001b[0;34m(\u001b[0m\u001b[0mv\u001b[0m \u001b[0;34m-\u001b[0m \u001b[0mV\u001b[0m\u001b[0;34m[\u001b[0m\u001b[0ma_s\u001b[0m\u001b[0;34m]\u001b[0m\u001b[0;34m[\u001b[0m\u001b[0mb_s\u001b[0m\u001b[0;34m]\u001b[0m\u001b[0;34m)\u001b[0m\u001b[0;34m)\u001b[0m\u001b[0;34m\u001b[0m\u001b[0m\n\u001b[1;32m     20\u001b[0m         \u001b[0mprint\u001b[0m\u001b[0;34m(\u001b[0m\u001b[0mdelta\u001b[0m\u001b[0;34m)\u001b[0m\u001b[0;34m\u001b[0m\u001b[0m\n",
      "\u001b[0;31mKeyboardInterrupt\u001b[0m: "
     ]
    }
   ],
   "source": [
    "env = CarRental()\n",
    "value = policy_evaluation(env)"
   ]
  },
  {
   "cell_type": "code",
   "execution_count": null,
   "metadata": {
    "collapsed": true
   },
   "outputs": [],
   "source": [
    "def policy_iteration(env, discount_factor)\n",
    "    # policy improvement\n",
    "        policy_stable = True\n",
    "        for a_s in range(V.shape[0]):\n",
    "            for b_s in range(V.shape[1]):\n",
    "                v = V[a_s][b_s]\n",
    "                for action in policy:\n",
    "                    if action < 0 and abs(action) <= b_s:\n",
    "                        cases = env.step([a_s, b_s], action)                        \n",
    "                    elif action >= 0 and abs(action) <= a_s:\n",
    "                        cases = env.step([a_s, b_s], action)\n",
    "                    else:\n",
    "                        continue\n",
    "                    for (prob, next_state, reward, done) in cases:\n",
    "                        V[a_s][b_s] += prob * (reward + discount_factor * V[next_state[0] - 1][next_state[1] - 1])   \n",
    "                policy[]\n",
    "    return V\n",
    "    # action range: -5 ~ +5"
   ]
  },
  {
   "cell_type": "code",
   "execution_count": 198,
   "metadata": {},
   "outputs": [
    {
     "ename": "KeyboardInterrupt",
     "evalue": "",
     "output_type": "error",
     "traceback": [
      "\u001b[0;31m---------------------------------------------------------------------------\u001b[0m",
      "\u001b[0;31mKeyboardInterrupt\u001b[0m                         Traceback (most recent call last)",
      "\u001b[0;32m<ipython-input-198-1451a0d56123>\u001b[0m in \u001b[0;36m<module>\u001b[0;34m()\u001b[0m\n\u001b[1;32m      1\u001b[0m \u001b[0menv\u001b[0m \u001b[0;34m=\u001b[0m \u001b[0mCarRental\u001b[0m\u001b[0;34m(\u001b[0m\u001b[0;34m)\u001b[0m\u001b[0;34m\u001b[0m\u001b[0m\n\u001b[0;32m----> 2\u001b[0;31m \u001b[0mvalue\u001b[0m \u001b[0;34m=\u001b[0m \u001b[0mpolicy_iteration\u001b[0m\u001b[0;34m(\u001b[0m\u001b[0menv\u001b[0m\u001b[0;34m)\u001b[0m\u001b[0;34m\u001b[0m\u001b[0m\n\u001b[0m",
      "\u001b[0;32m<ipython-input-197-6f018a909a56>\u001b[0m in \u001b[0;36mpolicy_iteration\u001b[0;34m(env, discount_factor, theta)\u001b[0m\n\u001b[1;32m     10\u001b[0m                 \u001b[0;32mfor\u001b[0m \u001b[0maction\u001b[0m \u001b[0;32min\u001b[0m \u001b[0mactions\u001b[0m\u001b[0;34m:\u001b[0m\u001b[0;34m\u001b[0m\u001b[0m\n\u001b[1;32m     11\u001b[0m                     \u001b[0;32mif\u001b[0m \u001b[0maction\u001b[0m \u001b[0;34m<\u001b[0m \u001b[0;36m0\u001b[0m \u001b[0;32mand\u001b[0m \u001b[0mabs\u001b[0m\u001b[0;34m(\u001b[0m\u001b[0maction\u001b[0m\u001b[0;34m)\u001b[0m \u001b[0;34m<=\u001b[0m \u001b[0mb_s\u001b[0m\u001b[0;34m:\u001b[0m\u001b[0;34m\u001b[0m\u001b[0m\n\u001b[0;32m---> 12\u001b[0;31m                         \u001b[0mcases\u001b[0m \u001b[0;34m=\u001b[0m \u001b[0menv\u001b[0m\u001b[0;34m.\u001b[0m\u001b[0mstep\u001b[0m\u001b[0;34m(\u001b[0m\u001b[0;34m[\u001b[0m\u001b[0ma_s\u001b[0m\u001b[0;34m,\u001b[0m \u001b[0mb_s\u001b[0m\u001b[0;34m]\u001b[0m\u001b[0;34m,\u001b[0m \u001b[0maction\u001b[0m\u001b[0;34m)\u001b[0m\u001b[0;34m\u001b[0m\u001b[0m\n\u001b[0m\u001b[1;32m     13\u001b[0m                     \u001b[0;32melif\u001b[0m \u001b[0maction\u001b[0m \u001b[0;34m>=\u001b[0m \u001b[0;36m0\u001b[0m \u001b[0;32mand\u001b[0m \u001b[0mabs\u001b[0m\u001b[0;34m(\u001b[0m\u001b[0maction\u001b[0m\u001b[0;34m)\u001b[0m \u001b[0;34m<=\u001b[0m \u001b[0ma_s\u001b[0m\u001b[0;34m:\u001b[0m\u001b[0;34m\u001b[0m\u001b[0m\n\u001b[1;32m     14\u001b[0m                         \u001b[0mcases\u001b[0m \u001b[0;34m=\u001b[0m \u001b[0menv\u001b[0m\u001b[0;34m.\u001b[0m\u001b[0mstep\u001b[0m\u001b[0;34m(\u001b[0m\u001b[0;34m[\u001b[0m\u001b[0ma_s\u001b[0m\u001b[0;34m,\u001b[0m \u001b[0mb_s\u001b[0m\u001b[0;34m]\u001b[0m\u001b[0;34m,\u001b[0m \u001b[0maction\u001b[0m\u001b[0;34m)\u001b[0m\u001b[0;34m\u001b[0m\u001b[0m\n",
      "\u001b[0;32m<ipython-input-195-7e65144d374f>\u001b[0m in \u001b[0;36mstep\u001b[0;34m(self, state, action)\u001b[0m\n\u001b[1;32m     39\u001b[0m                         \u001b[0mprob\u001b[0m \u001b[0;34m=\u001b[0m \u001b[0mprob_\u001b[0m \u001b[0;34m*\u001b[0m \u001b[0ma_rental_return_prob\u001b[0m \u001b[0;34m*\u001b[0m \u001b[0mb_rental_return_prob\u001b[0m\u001b[0;34m\u001b[0m\u001b[0m\n\u001b[1;32m     40\u001b[0m \u001b[0;34m\u001b[0m\u001b[0m\n\u001b[0;32m---> 41\u001b[0;31m                         \u001b[0mP\u001b[0m\u001b[0;34m.\u001b[0m\u001b[0mappend\u001b[0m\u001b[0;34m(\u001b[0m\u001b[0;34m[\u001b[0m\u001b[0mprob\u001b[0m\u001b[0;34m,\u001b[0m \u001b[0;34m[\u001b[0m\u001b[0mnext_a\u001b[0m\u001b[0;34m,\u001b[0m \u001b[0mnext_b\u001b[0m\u001b[0;34m]\u001b[0m\u001b[0;34m,\u001b[0m \u001b[0mreward\u001b[0m\u001b[0;34m,\u001b[0m \u001b[0;32mFalse\u001b[0m\u001b[0;34m]\u001b[0m\u001b[0;34m)\u001b[0m\u001b[0;34m\u001b[0m\u001b[0m\n\u001b[0m\u001b[1;32m     42\u001b[0m         \u001b[0;32mreturn\u001b[0m \u001b[0mP\u001b[0m\u001b[0;34m\u001b[0m\u001b[0m\n",
      "\u001b[0;31mKeyboardInterrupt\u001b[0m: "
     ]
    }
   ],
   "source": [
    "env = CarRental()\n",
    "value = policy_iteration(env)"
   ]
  },
  {
   "cell_type": "code",
   "execution_count": null,
   "metadata": {
    "collapsed": true
   },
   "outputs": [],
   "source": []
  }
 ],
 "metadata": {
  "kernelspec": {
   "display_name": "Python 3",
   "language": "python",
   "name": "python3"
  },
  "language_info": {
   "codemirror_mode": {
    "name": "ipython",
    "version": 3
   },
   "file_extension": ".py",
   "mimetype": "text/x-python",
   "name": "python",
   "nbconvert_exporter": "python",
   "pygments_lexer": "ipython3",
   "version": "3.6.1"
  }
 },
 "nbformat": 4,
 "nbformat_minor": 2
}
