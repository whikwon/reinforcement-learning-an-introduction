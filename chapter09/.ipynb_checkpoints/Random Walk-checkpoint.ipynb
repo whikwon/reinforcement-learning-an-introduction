{
 "cells": [
  {
   "cell_type": "markdown",
   "metadata": {},
   "source": [
    "### Random Walk\n",
    "1. 문제: 이전에 보았던 Random walk 예시와 동일하게 왼쪽, 오른쪽에 도착지점이 있고 도달하면 끝나는 문제이다. Value function을 구한다.\n",
    "2. 조건\n",
    "    - state: 1~1000 사이의 값 \n",
    "    - action: 오른쪽, 왼쪽 이동 (무작위로 1~100 만큼 이동한다.)\n",
    "    - reward: 오른쪽 끝(+1), 왼쪽 끝(-1)\n",
    "    - terminal\n",
    "        - 오른쪽 끝: 1001\n",
    "        - 왼쪽 끝: 0\n",
    "    - policy: \n",
    "        - 무작위로 오른쪽/왼쪽을 결정한다.\n",
    "3. 학습 목표\n",
    "    - Value Function Approximation \n",
    "        - State Aggregation\n",
    "        - Tile Coding\n",
    "    - Gradient Monte-Carlo Algorithm"
   ]
  },
  {
   "cell_type": "code",
   "execution_count": 1,
   "metadata": {
    "collapsed": true
   },
   "outputs": [],
   "source": [
    "import numpy as np\n",
    "import matplotlib.pyplot as plt"
   ]
  },
  {
   "cell_type": "code",
   "execution_count": 2,
   "metadata": {
    "collapsed": true
   },
   "outputs": [],
   "source": [
    "true_value = np.arange(-1001, 1003, 2) / 1001.0\n",
    "START = 500\n",
    "END = [0, 1001]\n",
    "LEFT, RIGHT = -1, 1\n",
    "ACTIONS = [LEFT, RIGHT]\n",
    "STEP_RANGE = 100\n",
    "N_STATES = 1000\n",
    "\n",
    "class RandomWalk:\n",
    "    \n",
    "    def __init__(self):\n",
    "        self.reset()\n",
    "\n",
    "    def step(self, action):\n",
    "        done = False\n",
    "        step = np.random.randint(1, STEP_RANGE + 1)\n",
    "        step *= action\n",
    "        self.state += step\n",
    "        self.state = max(min(self.state, N_STATES + 1), 0)\n",
    "        if self.state == 0:\n",
    "            reward = -1\n",
    "            done = True\n",
    "        elif self.state == N_STATES + 1:\n",
    "            reward = 1\n",
    "            done = True\n",
    "        else:\n",
    "            reward = 0\n",
    "        return self.state, reward, done \n",
    "    \n",
    "    def reset(self):\n",
    "        self.state = START\n",
    "        return self.state"
   ]
  },
  {
   "cell_type": "markdown",
   "metadata": {},
   "source": [
    "### Value Function Approximation\n",
    "value function을 $\\hat v(S_t, \\textbf{w}_t$로 근사해서 구한다. 각각의 state는 ***state aggregation***을 사용해서 일정 구간 별로 묶어서 작게 나타냈다. (이 문제에서는 1000개라서 쪼개지 않아도 상관없지만 continuous하다고 생각했을 땐 discrete로 쪼개서 생각하는 것이 편리하다.)\n",
    "\n",
    "parameter를 update할 때 구해야 하는 항인 gradient $\\nabla \\hat v (S_t, \\textbf{w})$는 전체 state에 대한 $t$에서 state의 indicator function이 된다. (1, 0)\n",
    "![mc gradient](../images/gradient_MC.png)"
   ]
  },
  {
   "cell_type": "code",
   "execution_count": 4,
   "metadata": {
    "collapsed": true
   },
   "outputs": [],
   "source": [
    "class ValueFunction:\n",
    "    \n",
    "    def __init__(self, num_groups):\n",
    "        self.num_groups = num_groups\n",
    "        self.group_size = N_STATES // num_groups\n",
    "        self.params = np.zeros(num_groups)\n",
    "\n",
    "    def value(self, state):\n",
    "        if state in END:\n",
    "            return 0\n",
    "        group_idx = (state - 1) // self.group_size\n",
    "        return self.params[group_idx]\n",
    "\n",
    "    def update(self, delta, state):\n",
    "        group_idx = (state - 1) // self.group_size\n",
    "        self.params[group_idx] += delta"
   ]
  },
  {
   "cell_type": "markdown",
   "metadata": {},
   "source": [
    "### Tile Coding\n",
    "Randomwalk environment를 일정한 너비로 state aggregation을 해서 tile을 만든다. 같은 방법으로 일정한 offset을 줘서 약간 어긋나서 겹치게 여러 장을 만든다. 이렇게 만들어진 각각의 장에 대해서 tile에 대한 weight를 지정해준다. \n",
    "\n",
    "맨 처음 장에 대해서 각 tile을 보면 뒤에 다른 장들의 어떤 tile이 매칭이 되는지 확인할 수 있다. 포함되는 여러 장의 모든 tile을 고려해서 value function을 구하고, 각각의 weight를 update해준다.\n",
    "\n",
    "local 구간(receptive field)에 대한 정보를 나눈 뒤 이를 조합하는데 그 때 각각의 가중치를 학습시켜서 어떤 정보끼리가 중요한지 알아가는 과정이라고 보면 되겠다."
   ]
  },
  {
   "cell_type": "code",
   "execution_count": 104,
   "metadata": {
    "collapsed": true
   },
   "outputs": [],
   "source": [
    "class TilingsValueFunction:\n",
    "    # @numOfTilings: # of tilings\n",
    "    # @tileWidth: each tiling has several tiles, this parameter specifies the width of each tile\n",
    "    # @tilingOffset: specifies how tilings are put together\n",
    "    def __init__(self, num_tilings, tile_width, tiling_offset):\n",
    "        self.num_tilings = num_tilings\n",
    "        self.tile_width = tile_width\n",
    "        self.tiling_offset = tiling_offset\n",
    "\n",
    "        # To make sure that each sate is covered by same number of tiles,\n",
    "        # we need one more tile for each tiling\n",
    "        self.tiling_size = N_STATES // tile_width + 1\n",
    "\n",
    "        # weight for each tile\n",
    "        self.params = np.zeros((self.num_tilings, self.tiling_size))\n",
    "\n",
    "        # For performance, only track the starting position for each tiling\n",
    "        # As we have one more tile for each tiling, the starting position will be negative\n",
    "        self.tilings = np.arange(-tile_width + 1, 0, tiling_offset)\n",
    "\n",
    "    # get the value of @state\n",
    "    def value(self, state):\n",
    "        state_value = 0.0\n",
    "        # go through all the tilings\n",
    "        for tiling_index in range(0, len(self.tilings)):\n",
    "            # find the active tile in current tiling\n",
    "            tile_index = (state - self.tilings[tiling_index]) // self.tile_width\n",
    "            state_value += self.params[tiling_index, tile_index]\n",
    "        return state_value\n",
    "\n",
    "    # update parameters\n",
    "    # @delta: step size * (target - old estimation)\n",
    "    # @state: state of current sample\n",
    "    def update(self, delta, state):\n",
    "\n",
    "        # each state is covered by same number of tilings\n",
    "        # so the delta should be divided equally into each tiling (tile)\n",
    "        delta /= self.num_tilings\n",
    "\n",
    "        # go through all the tilings\n",
    "        for tiling_index in range(0, len(self.tilings)):\n",
    "            # find the active tile in current tiling\n",
    "            tile_index = (state - self.tilings[tiling_index]) // self.tile_width\n",
    "            self.params[tiling_index, tile_index] += delta"
   ]
  },
  {
   "cell_type": "code",
   "execution_count": 105,
   "metadata": {
    "collapsed": true
   },
   "outputs": [],
   "source": [
    "def gradient_mc(env, value_fn, policy_fn, alpha, distribution=None):\n",
    "    episode = []\n",
    "    state = env.reset()\n",
    "    while True:\n",
    "        action = ACTIONS[policy_fn()]\n",
    "        next_state, reward, done = env.step(action)\n",
    "        episode.append([state, action, reward])            \n",
    "        state = next_state\n",
    "        if done:\n",
    "            break\n",
    "    for t, (state, action, reward) in enumerate(episode):\n",
    "        G = sum([x[2] for x in episode[t:]])\n",
    "        delta = alpha * (G - value_fn.value(state))                \n",
    "        value_fn.update(delta, state)\n",
    "        if distribution is not None:\n",
    "            distribution[state] += 1"
   ]
  },
  {
   "cell_type": "markdown",
   "metadata": {},
   "source": [
    "### Figure 9.1\n",
    "\n",
    "**state aggregation**으로 state를 근사해서 단순하게 나타냈을 때 true value에 얼마나 가깝게 학습하는 지를 보여준다."
   ]
  },
  {
   "cell_type": "code",
   "execution_count": 106,
   "metadata": {
    "collapsed": true
   },
   "outputs": [],
   "source": [
    "num_episodes = 10000\n",
    "env = RandomWalk()\n",
    "policy = lambda: np.random.binomial(1, 0.5)\n",
    "value_fn = ValueFunction(10)\n",
    "distribution = np.zeros([N_STATES + 1])\n",
    "for i_episode in range(num_episodes):\n",
    "    gradient_mc(env, value_fn, policy, 2e-5, distribution)"
   ]
  },
  {
   "cell_type": "code",
   "execution_count": 107,
   "metadata": {
    "collapsed": true,
    "scrolled": true
   },
   "outputs": [],
   "source": [
    "estimated_value = [value_fn.value(s) for s in range(1, N_STATES+1)]\n",
    "distribution /= N_STATES"
   ]
  },
  {
   "cell_type": "code",
   "execution_count": 108,
   "metadata": {},
   "outputs": [
    {
     "data": {
      "image/png": "[encoded data removed]",
      "text/plain": [
       "<matplotlib.figure.Figure at 0x7f8c8b57b828>"
      ]
     },
     "metadata": {},
     "output_type": "display_data"
    }
   ],
   "source": [
    "plt.plot(estimated_value, label='Approximate MC value')\n",
    "plt.plot(true_value[1:-1], label='true value')\n",
    "plt.legend()\n",
    "plt.show()"
   ]
  },
  {
   "cell_type": "code",
   "execution_count": 109,
   "metadata": {
    "scrolled": true
   },
   "outputs": [
    {
     "data": {
      "image/png": "[encoded data removed]",
      "text/plain": [
       "<matplotlib.figure.Figure at 0x7f8c8b679d30>"
      ]
     },
     "metadata": {},
     "output_type": "display_data"
    }
   ],
   "source": [
    "plt.plot(distribution)\n",
    "plt.show()"
   ]
  },
  {
   "cell_type": "markdown",
   "metadata": {},
   "source": [
    "### Figure 9.10\n",
    "\n",
    "value function을 state aggregation, tile coding으로 근사했을 때의 *Mean Squared Value Error($\\bar {VE}$)*를 비교해본다."
   ]
  },
  {
   "cell_type": "code",
   "execution_count": 125,
   "metadata": {
    "collapsed": true
   },
   "outputs": [],
   "source": [
    "num_episodes = 5000\n",
    "env = RandomWalk()\n",
    "policy = lambda: np.random.binomial(1, 0.5)\n",
    "value_fn = TilingsValueFunction(50, 200, 4)\n",
    "errors = []\n",
    "for i_episode in range(1, num_episodes + 1):\n",
    "    alpha = 1.0 / (i_episode + 1)\n",
    "    gradient_mc(env, value_fn, policy, alpha)\n",
    "    error = np.sqrt(np.sum(np.square(true_value[1: -1] - np.array([value_fn.value(s) for s in range(1, N_STATES+1)]))))\n",
    "    errors.append(error)"
   ]
  },
  {
   "cell_type": "code",
   "execution_count": 126,
   "metadata": {
    "collapsed": true
   },
   "outputs": [],
   "source": [
    "estimated_value = [value_fn.value(s) for s in range(1, N_STATES + 1)]"
   ]
  },
  {
   "cell_type": "code",
   "execution_count": 127,
   "metadata": {},
   "outputs": [
    {
     "data": {
      "image/png": "[encoded data removed]",
      "text/plain": [
       "<matplotlib.figure.Figure at 0x7f8c8b931278>"
      ]
     },
     "metadata": {},
     "output_type": "display_data"
    }
   ],
   "source": [
    "plt.plot(estimated_value, label='Tile Coding')\n",
    "plt.plot(true_value[1:-1], label='true value')\n",
    "plt.legend()\n",
    "plt.show()"
   ]
  },
  {
   "cell_type": "code",
   "execution_count": 128,
   "metadata": {},
   "outputs": [
    {
     "data": {
      "image/png": "[encoded data removed]",
      "text/plain": [
       "<matplotlib.figure.Figure at 0x7f8c8b9319e8>"
      ]
     },
     "metadata": {},
     "output_type": "display_data"
    }
   ],
   "source": [
    "plt.plot(range(1, num_episodes+1), errors)\n",
    "plt.show()"
   ]
  }
 ],
 "metadata": {
  "kernelspec": {
   "display_name": "Python 3",
   "language": "python",
   "name": "python3"
  },
  "language_info": {
   "codemirror_mode": {
    "name": "ipython",
    "version": 3
   },
   "file_extension": ".py",
   "mimetype": "text/x-python",
   "name": "python",
   "nbconvert_exporter": "python",
   "pygments_lexer": "ipython3",
   "version": "3.6.1"
  }
 },
 "nbformat": 4,
 "nbformat_minor": 2
}
