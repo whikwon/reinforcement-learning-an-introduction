{
 "cells": [
  {
   "cell_type": "markdown",
   "metadata": {},
   "source": [
    "### Random Walk\n",
    "1. 문제: 19개의 node가 일렬로 있는데 가운데(10)에서 출발해서 random하게 움직이며 좌측 혹은 우측 끝에 도달하면 끝나는 문제이다. \n",
    "2. 조건: \n",
    "    - state: 말의 node 위치\n",
    "    - action: 좌, 우 이동 \n",
    "    - reward: 우측 끝에 도달(+1), 나머지 움직임(0)\n",
    "    - terminal: 좌측, 우측 끝에 도달\n",
    "    - start: 10번째 node \n",
    "    - policy: random policy\n",
    "3. 학습 목표\n",
    "    - $n$-step TD method"
   ]
  },
  {
   "cell_type": "code",
   "execution_count": 1,
   "metadata": {
    "collapsed": true
   },
   "outputs": [],
   "source": [
    "import numpy as np\n",
    "from collections import defaultdict\n",
    "import matplotlib.pyplot as plt"
   ]
  },
  {
   "cell_type": "code",
   "execution_count": 2,
   "metadata": {
    "collapsed": true
   },
   "outputs": [],
   "source": [
    "true_V = np.arange(-20, 22, 2) / 20.0\n",
    "true_V[0] = true_V[-1] = 0"
   ]
  },
  {
   "cell_type": "code",
   "execution_count": 3,
   "metadata": {
    "collapsed": true
   },
   "outputs": [],
   "source": [
    "START = 10\n",
    "LEFT = 0\n",
    "RIGHT = 1\n",
    "\n",
    "class RandomWalk:\n",
    "    def __init__(self):\n",
    "        self.state = START\n",
    "        self.nA = 2\n",
    "        self.nS = 21\n",
    "        grid = np.arange(self.nS)\n",
    "        P = defaultdict(lambda: [[] for i in range(self.nA)])\n",
    "\n",
    "        for s in grid:\n",
    "            if s == 19:\n",
    "                P[s][LEFT] = [s - 1, 0, False]\n",
    "                P[s][RIGHT] = [s + 1, 1, True]\n",
    "            elif s == 1:\n",
    "                P[s][LEFT] = [s - 1, -1, True]\n",
    "                P[s][RIGHT] = [s + 1, 0, False]\n",
    "            else:\n",
    "                P[s][LEFT] = [s - 1, 0, False]\n",
    "                P[s][RIGHT] = [s + 1, 0, False]\n",
    "        self.P = P\n",
    "        \n",
    "    def step(self, action):\n",
    "        next_state, reward, done = self.P[self.state][action]     \n",
    "        self.state = next_state\n",
    "        return [next_state, reward, done]\n",
    "        \n",
    "    def reset(self):\n",
    "        self.state = START\n",
    "        return self.state"
   ]
  },
  {
   "cell_type": "code",
   "execution_count": 4,
   "metadata": {
    "collapsed": true
   },
   "outputs": [],
   "source": [
    "def tabular_td_zero(env, num_episodes, policy, discount_factor, alpha):\n",
    "    V = np.zeros(env.nS)\n",
    "    rmse = []\n",
    "    for i_episode in range(num_episodes):\n",
    "        state = env.reset()\n",
    "        while True:            \n",
    "            action = policy()\n",
    "            next_state, reward, done = env.step(action)\n",
    "            V[state] += alpha * (reward + discount_factor * V[next_state] - V[state])\n",
    "            if done:\n",
    "                break\n",
    "            state = next_state\n",
    "        rmse.append(np.sqrt(np.sum(np.square(true_V - V))))\n",
    "    return V, rmse"
   ]
  },
  {
   "cell_type": "code",
   "execution_count": 34,
   "metadata": {
    "collapsed": true
   },
   "outputs": [],
   "source": [
    "env = RandomWalk()\n",
    "policy = lambda: np.random.binomial(1, 0.5)\n",
    "V, rmse = tabular_td_zero(env, 100, policy, 1.0, 0.4)"
   ]
  },
  {
   "cell_type": "code",
   "execution_count": 35,
   "metadata": {},
   "outputs": [
    {
     "data": {
      "text/plain": [
       "array([ 0.        , -0.99934376, -0.98016861, -0.95861841, -0.91325817,\n",
       "       -0.82835762, -0.68385944, -0.59417196, -0.51716319, -0.29505857,\n",
       "       -0.00256325,  0.25460461,  0.4907967 ,  0.5590254 ,  0.68770196,\n",
       "        0.77997196,  0.86072514,  0.89516325,  0.96124152,  0.98612553,  0.        ])"
      ]
     },
     "execution_count": 35,
     "metadata": {},
     "output_type": "execute_result"
    }
   ],
   "source": [
    "V"
   ]
  },
  {
   "cell_type": "code",
   "execution_count": 36,
   "metadata": {},
   "outputs": [
    {
     "data": {
      "image/png": "[encoded data removed]",
      "text/plain": [
       "<matplotlib.figure.Figure at 0x7f9ee5d87780>"
      ]
     },
     "metadata": {},
     "output_type": "display_data"
    }
   ],
   "source": [
    "plt.plot(np.arange(100), rmse)\n",
    "plt.show()"
   ]
  },
  {
   "cell_type": "markdown",
   "metadata": {},
   "source": [
    "### n-step TD \n",
    "- 목적: state-value function $V(s)$를 구하기\n",
    "- 알고리즘 설명:\n",
    "    - $V(s)$를 초기화한다. 학습에 필요한 값(hyperparamter)들을 지정해준다.\n",
    "    - 매 episode에 대해서 아래 내용을 반복한다.\n",
    "        - 현재 state($s$)를 초기화한다. \n",
    "        - episode가 끝날 때까지 현재 state $s_t$를 통해 action($a$)을 구하고 action($a$)을 통해 MDP로부터 reward($R_t$), next_state($s_{t+1}$)를 얻는다. $s_t, R_t$는 매 생성 시 따로 저장해둔다. \n",
    "        - 현재 state $s_t$에 대해서 이 후 몇 $n$-step을 고려해서 improve 할 지 결정해줘야 한다. 예를 들면 $n=2$, $t=0$이라면 \n",
    "        $t=1, t=2$의 reward, $V(S_2)$를 고려해서 $G = R_1 + \\gamma R_2 + \\gamma^2 V(S_2)$를 return이라고 근사한 뒤 이를 **TD target**으로 놓고 improve하는 식이다. \n",
    "        - episode를 생각했을 때 n개를 봤을 때 terminal에 도달하면 다음 episode로 넘어간다. \n",
    "        \n",
    "가장 중요한 내용은 현재로부터 이후 몇 개의 step을 고려해서 Value function을 improve 하느냐이다.\n",
    "\n",
    "![n-step TD](../images/n_step_TD.png) \n",
    "<center> 출처: Reinforcement Learning : An Introduction. Richard S. Sutton and Andrew G. Barto. 2017 (pp. 117) </center>"
   ]
  },
  {
   "cell_type": "code",
   "execution_count": 37,
   "metadata": {
    "collapsed": true
   },
   "outputs": [],
   "source": [
    "def n_step_td(env, num_episodes, policy, discount_factor, alpha, n):\n",
    "    V = np.zeros(env.nS)\n",
    "    rmse = []\n",
    "    \n",
    "    for i_episode in range(num_episodes):\n",
    "        state = env.reset()\n",
    "        rewards_sum = [0] # to store rewards\n",
    "        states_sum = [state] # to store states\n",
    "        T = np.inf # for non-episodic tasks \n",
    "        t = 0\n",
    "        while True:\n",
    "            if t < T:\n",
    "                action = policy()\n",
    "                next_state, reward, done = env.step(action)\n",
    "                rewards_sum.append(reward)\n",
    "                states_sum.append(state)\n",
    "                if done:\n",
    "                    T = t + 1\n",
    "            # tau \n",
    "            tau = t - n + 1\n",
    "            if tau >= 0:\n",
    "                G = sum(pow(discount_factor, (i-tau-1)) * rewards_sum[i] for i in range(tau+1, min(tau+n+1, T+1)))\n",
    "                if tau + n < T:\n",
    "                    G += pow(discount_factor, n) * V[states_sum[tau+n]]\n",
    "                V[states_sum[tau]] = V[states_sum[tau]] + alpha * (G - V[states_sum[tau]])                      \n",
    "            if tau == T - 1:\n",
    "                break                \n",
    "            t += 1\n",
    "            state = next_state            \n",
    "        rmse.append(np.sqrt(np.sum(np.square(true_V - V))))\n",
    "    return V, rmse"
   ]
  },
  {
   "cell_type": "code",
   "execution_count": 80,
   "metadata": {},
   "outputs": [],
   "source": [
    "env = RandomWalk()\n",
    "policy = lambda: np.random.binomial(1, 0.5)\n",
    "V, rmse = n_step_td(env, 1000, policy, 0.95, 0.4, 4)"
   ]
  },
  {
   "cell_type": "code",
   "execution_count": 81,
   "metadata": {},
   "outputs": [
    {
     "data": {
      "text/plain": [
       "array([ 0.        , -0.50134038, -0.84186438, -0.73628615, -0.51973774,\n",
       "       -0.35688033, -0.29425808, -0.16519313, -0.14383934, -0.111434  ,\n",
       "        0.23513771,  0.32870762,  0.35932945,  0.45282568,  0.54874683,\n",
       "        0.57143443,  0.7042172 ,  0.67133017,  0.91332849,  0.88013648,  0.        ])"
      ]
     },
     "execution_count": 81,
     "metadata": {},
     "output_type": "execute_result"
    }
   ],
   "source": [
    "V"
   ]
  },
  {
   "cell_type": "code",
   "execution_count": 83,
   "metadata": {
    "scrolled": true
   },
   "outputs": [
    {
     "data": {
      "image/png": "[encoded data removed]",
      "text/plain": [
       "<matplotlib.figure.Figure at 0x7f9ee5a7c8d0>"
      ]
     },
     "metadata": {},
     "output_type": "display_data"
    }
   ],
   "source": [
    "plt.plot(np.arange(1000), rmse)\n",
    "plt.show()"
   ]
  },
  {
   "cell_type": "code",
   "execution_count": null,
   "metadata": {
    "collapsed": true
   },
   "outputs": [],
   "source": []
  }
 ],
 "metadata": {
  "kernelspec": {
   "display_name": "Python 3",
   "language": "python",
   "name": "python3"
  },
  "language_info": {
   "codemirror_mode": {
    "name": "ipython",
    "version": 3
   },
   "file_extension": ".py",
   "mimetype": "text/x-python",
   "name": "python",
   "nbconvert_exporter": "python",
   "pygments_lexer": "ipython3",
   "version": "3.6.1"
  }
 },
 "nbformat": 4,
 "nbformat_minor": 2
}
