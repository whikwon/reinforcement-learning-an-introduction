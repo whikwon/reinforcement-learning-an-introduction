{
 "cells": [
  {
   "cell_type": "markdown",
   "metadata": {},
   "source": [
    "### Random Walk\n",
    "1. 문제: 19개의 node가 일렬로 있는데 가운데(10)에서 출발해서 random하게 움직이며 좌측 혹은 우측 끝에 도달하면 끝나는 문제이다. \n",
    "2. 조건: \n",
    "    - state: 말의 node 위치\n",
    "    - action: 좌, 우 이동 \n",
    "    - reward: 우측 끝에 도달(+1), 나머지 움직임(0)\n",
    "    - terminal: 좌측, 우측 끝에 도달\n",
    "    - start: 10번째 node \n",
    "    - policy: random policy\n",
    "3. 학습 목표\n",
    "    - $n$-step TD method"
   ]
  },
  {
   "cell_type": "code",
   "execution_count": 1,
   "metadata": {
    "collapsed": true
   },
   "outputs": [],
   "source": [
    "import numpy as np\n",
    "from collections import defaultdict\n",
    "import matplotlib.pyplot as plt"
   ]
  },
  {
   "cell_type": "code",
   "execution_count": 2,
   "metadata": {
    "collapsed": true
   },
   "outputs": [],
   "source": [
    "true_V = np.arange(-20, 22, 2) / 20.0\n",
    "true_V[0] = true_V[-1] = 0"
   ]
  },
  {
   "cell_type": "code",
   "execution_count": 3,
   "metadata": {
    "collapsed": true
   },
   "outputs": [],
   "source": [
    "START = 10\n",
    "LEFT = 0\n",
    "RIGHT = 1\n",
    "\n",
    "class RandomWalk:\n",
    "    def __init__(self):\n",
    "        self.state = START\n",
    "        self.nA = 2\n",
    "        self.nS = 21\n",
    "        grid = np.arange(self.nS)\n",
    "        P = defaultdict(lambda: [[] for i in range(self.nA)])\n",
    "\n",
    "        for s in grid:\n",
    "            if s == 19:\n",
    "                P[s][LEFT] = [s - 1, 0, False]\n",
    "                P[s][RIGHT] = [s + 1, 1, True]\n",
    "            elif s == 1:\n",
    "                P[s][LEFT] = [s - 1, -1, True]\n",
    "                P[s][RIGHT] = [s + 1, 0, False]\n",
    "            else:\n",
    "                P[s][LEFT] = [s - 1, 0, False]\n",
    "                P[s][RIGHT] = [s + 1, 0, False]\n",
    "        self.P = P\n",
    "        \n",
    "    def step(self, action):\n",
    "        next_state, reward, done = self.P[self.state][action]     \n",
    "        self.state = next_state\n",
    "        return [next_state, reward, done]\n",
    "        \n",
    "    def reset(self):\n",
    "        self.state = START\n",
    "        return self.state"
   ]
  },
  {
   "cell_type": "code",
   "execution_count": 4,
   "metadata": {
    "collapsed": true
   },
   "outputs": [],
   "source": [
    "def tabular_td_zero(env, num_episodes, policy, discount_factor, alpha):\n",
    "    V = np.zeros(env.nS)\n",
    "    rmse = []\n",
    "    for i_episode in range(num_episodes):\n",
    "        state = env.reset()\n",
    "        while True:            \n",
    "            action = policy()\n",
    "            next_state, reward, done = env.step(action)\n",
    "            V[state] += alpha * (reward + discount_factor * V[next_state] - V[state])\n",
    "            if done:\n",
    "                break\n",
    "            state = next_state\n",
    "        rmse.append(np.sqrt(np.sum(np.square(true_V - V))))\n",
    "    return V, rmse"
   ]
  },
  {
   "cell_type": "code",
   "execution_count": 5,
   "metadata": {
    "collapsed": true
   },
   "outputs": [],
   "source": [
    "env = RandomWalk()\n",
    "policy = lambda: np.random.binomial(1, 0.5)\n",
    "V, rmse = tabular_td_zero(env, 10, policy, 1.0, 0.4)"
   ]
  },
  {
   "cell_type": "code",
   "execution_count": 6,
   "metadata": {},
   "outputs": [
    {
     "data": {
      "text/plain": [
       "array([  0.00000000e+00,  -8.83446520e-01,  -7.79251283e-01,\n",
       "        -6.63265505e-01,  -4.26112579e-01,  -2.10560131e-01,\n",
       "        -1.02817999e-01,  -6.12340122e-02,  -4.36166543e-02,\n",
       "        -1.49408141e-02,  -7.64379138e-03,  -3.34788260e-03,\n",
       "        -6.46099940e-04,  -3.05186250e-04,  -1.81135622e-04,\n",
       "        -8.82735459e-05,  -4.53798297e-05,   8.43436921e-02,\n",
       "         1.63187575e-01,   5.52447304e-01,   0.00000000e+00])"
      ]
     },
     "execution_count": 6,
     "metadata": {},
     "output_type": "execute_result"
    }
   ],
   "source": [
    "V"
   ]
  },
  {
   "cell_type": "code",
   "execution_count": 7,
   "metadata": {},
   "outputs": [
    {
     "data": {
      "image/png": "[encoded data removed]",
      "text/plain": [
       "<matplotlib.figure.Figure at 0x7f9ee82ef400>"
      ]
     },
     "metadata": {},
     "output_type": "display_data"
    }
   ],
   "source": [
    "plt.plot(np.arange(10), rmse)\n",
    "plt.show()"
   ]
  },
  {
   "cell_type": "markdown",
   "metadata": {},
   "source": [
    "### n-step TD \n",
    "- 목적: state-value function $V(s)$를 구하기\n",
    "- 알고리즘 설명:\n",
    "    - $V(s)$를 초기화한다. 학습에 필요한 값(hyperparamter)들을 지정해준다.\n",
    "    - 매 episode에 대해서 아래 내용을 반복한다.\n",
    "        - 현재 state($s$)를 초기화한다. \n",
    "        - episode가 끝날 때까지 현재 state $s_t$를 통해 action($a$)을 구하고 action($a$)을 통해 MDP로부터 reward($R_t$), next_state($s_{t+1}$)를 얻는다. $s_t, R_t$는 매 생성 시 따로 저장해둔다. \n",
    "        - 현재 state $s_t$에 대해서 이 후 몇 $n$-step을 고려해서 improve 할 지 결정해줘야 한다. 예를 들면 $n=2$, $t=0$이라면 \n",
    "        $t=1, t=2$의 reward, $V(S_2)$를 고려해서 $G = R_1 + \\gamma R_2 + \\gamma^2 V(S_2)$를 return이라고 근사한 뒤 이를 **TD target**으로 놓고 improve하는 식이다. \n",
    "        - episode를 생각했을 때 n개를 봤을 때 terminal에 도달하면 다음 episode로 넘어간다. \n",
    "        \n",
    "가장 중요한 내용은 현재로부터 이후 몇 개의 step을 고려해서 Value function을 improve 하느냐이다.\n",
    "\n",
    "![n-step TD](../images/n_step_TD.png) \n",
    "<center> 출처: Reinforcement Learning : An Introduction. Richard S. Sutton and Andrew G. Barto. 2017 (pp. 117) </center>"
   ]
  },
  {
   "cell_type": "code",
   "execution_count": 353,
   "metadata": {
    "collapsed": true
   },
   "outputs": [],
   "source": [
    "def n_step_td(env, num_episodes, policy, discount_factor, alpha, n):\n",
    "    V = np.zeros(env.nS)\n",
    "    rmse = []\n",
    "    \n",
    "    for i_episode in range(num_episodes):\n",
    "        state = env.reset()\n",
    "        rewards_sum = [0] # to store rewards\n",
    "        states_sum = [state] # to store states\n",
    "        T = np.inf # for non-episodic tasks \n",
    "        t = 0\n",
    "        while True:\n",
    "            if t < T:\n",
    "                action = policy()\n",
    "                next_state, reward, done = env.step(action)\n",
    "                rewards_sum.append(reward)\n",
    "                states_sum.append(state)\n",
    "                if done:\n",
    "                    T = t + 1\n",
    "            # tau \n",
    "            tau = t - n + 1\n",
    "            if tau >= 0:\n",
    "                G = sum(pow(discount_factor, (i-tau-1)) * rewards_sum[i] for i in range(tau+1, min(tau+n+1, T+1)))\n",
    "                if tau + n < T:\n",
    "                    G += pow(discount_factor, n) * V[states_sum[tau+n]]\n",
    "                V[states_sum[tau]] = V[states_sum[tau]] + alpha * (G - V[states_sum[tau]])                      \n",
    "            if tau == T - 1:\n",
    "                break                \n",
    "            t += 1\n",
    "            state = next_state            \n",
    "        rmse.append(np.sqrt(np.sum(np.square(true_V - V))))\n",
    "    return V, rmse"
   ]
  },
  {
   "cell_type": "code",
   "execution_count": 464,
   "metadata": {},
   "outputs": [
    {
     "data": {
      "text/plain": [
       "array([ 0.        , -0.99868235, -0.98840379, -0.97128751, -0.85471356,\n",
       "       -0.47373008, -0.54964983, -0.32200854, -0.14923578,  0.0065704 ,\n",
       "        0.06703597,  0.28883008,  0.66226379,  0.6959514 ,  0.74564156,\n",
       "        0.70365777,  0.89469609,  0.97653007,  0.99063196,  0.92039372,  0.        ])"
      ]
     },
     "execution_count": 464,
     "metadata": {},
     "output_type": "execute_result"
    }
   ],
   "source": [
    "env = RandomWalk()\n",
    "policy = lambda: np.random.binomial(1, 0.5)\n",
    "V, rmse = n_step_td(env, 100, policy, 1.0, 0.4, 4)\n",
    "\n",
    "V"
   ]
  },
  {
   "cell_type": "code",
   "execution_count": 419,
   "metadata": {
    "scrolled": true
   },
   "outputs": [
    {
     "data": {
      "image/png": "[encoded data removed]",
      "text/plain": [
       "<matplotlib.figure.Figure at 0x7f393ddd5400>"
      ]
     },
     "metadata": {},
     "output_type": "display_data"
    }
   ],
   "source": [
    "plt.plot(np.arange(10), rmse)\n",
    "plt.show()"
   ]
  },
  {
   "cell_type": "code",
   "execution_count": null,
   "metadata": {
    "collapsed": true
   },
   "outputs": [],
   "source": []
  }
 ],
 "metadata": {
  "kernelspec": {
   "display_name": "Python 3",
   "language": "python",
   "name": "python3"
  },
  "language_info": {
   "codemirror_mode": {
    "name": "ipython",
    "version": 3
   },
   "file_extension": ".py",
   "mimetype": "text/x-python",
   "name": "python",
   "nbconvert_exporter": "python",
   "pygments_lexer": "ipython3",
   "version": "3.6.1"
  }
 },
 "nbformat": 4,
 "nbformat_minor": 2
}
