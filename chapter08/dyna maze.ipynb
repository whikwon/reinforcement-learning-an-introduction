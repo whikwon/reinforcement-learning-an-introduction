{
 "cells": [
  {
   "cell_type": "markdown",
   "metadata": {},
   "source": [
    "### Dyna maze\n",
    "\n",
    "1. 문제: 다양한 장애물이 있는 maze를 시작 지점에서 도착 지점까지 도달하는 문제를 푼다.\n",
    "2. 조건: \n",
    "    - state: grid 내 위치 \n",
    "    - action: 상, 하, 좌, 우로 이동\n",
    "    - reward: 이동 시 0, 도착 지점 도달 시 +1 \n",
    "    - terminal: (8, 0)\n",
    "    - start: (0, 2)\n",
    "    - policy: random policy로 시작하고 Dyna-Q로 학습하면서 optimal policy로 수렴한다.\n",
    "3. 학습 목표\n",
    "    - Tabular Dyna-Q\n",
    "    - Model-based + Model-Free Learning\n",
    "    - Dyna-Q+"
   ]
  },
  {
   "cell_type": "code",
   "execution_count": 1,
   "metadata": {
    "collapsed": true
   },
   "outputs": [],
   "source": [
    "import numpy as np\n",
    "from collections import defaultdict\n",
    "import matplotlib.pyplot as plt\n",
    "import random"
   ]
  },
  {
   "cell_type": "markdown",
   "metadata": {},
   "source": [
    "### Maze 종류\n",
    "1. **SimpleMaze**\n",
    "2. **BlockMaze**"
   ]
  },
  {
   "cell_type": "code",
   "execution_count": 81,
   "metadata": {
    "collapsed": true
   },
   "outputs": [],
   "source": [
    "WORLD_WIDTH = 9\n",
    "WORLD_HEIGHT = 6\n",
    "UP = 0\n",
    "DOWN = 1\n",
    "LEFT = 2\n",
    "RIGHT = 3\n",
    "\n",
    "class SimpleMaze:\n",
    "    \n",
    "    def __init__(self):\n",
    "        self.start = (0, 2)\n",
    "        self.end = (8, 0)\n",
    "        self.nS = WORLD_HEIGHT * WORLD_WIDTH\n",
    "        self.nA = 4\n",
    "        self.obs = [(2, 1), (2, 2), (2, 3), (7, 0), (7, 1), (7, 2), (5, 4)]\n",
    "\n",
    "    def step(self, action):\n",
    "        x, y = self.state\n",
    "        reward = 0\n",
    "        done = False\n",
    "        if action == UP:\n",
    "            y = y - 1 if y != 0  else y\n",
    "        elif action == DOWN:\n",
    "            y = y + 1 if y != WORLD_HEIGHT - 1 else y        \n",
    "        elif action == LEFT:\n",
    "            x = x - 1 if x != 0 else x \n",
    "        else: \n",
    "            x = x + 1 if x != WORLD_WIDTH - 1 else x\n",
    "        if (x, y) in self.obs:\n",
    "            x, y = self.state\n",
    "        if (x, y) == self.end:\n",
    "            reward = 1\n",
    "            done = True\n",
    "        self.state = (x, y)\n",
    "        return self.state, reward, done \n",
    "        \n",
    "    def reset(self):\n",
    "        self.state = self.start\n",
    "        return self.state\n",
    "    \n",
    "    \n",
    "class BlockMaze:\n",
    "    \n",
    "    def __init__(self):\n",
    "        self.start = (3, 5)\n",
    "        self.end = (8, 0)\n",
    "        self.nS = WORLD_HEIGHT * WORLD_WIDTH\n",
    "        self.nA = 4\n",
    "        self.obs = [(i, 3) for i in range(1, 9)]\n",
    "\n",
    "    def step(self, action):\n",
    "        x, y = self.state\n",
    "        reward = 0\n",
    "        done = False\n",
    "        if action == UP:\n",
    "            y = y - 1 if y != 0  else y\n",
    "        elif action == DOWN:\n",
    "            y = y + 1 if y != WORLD_HEIGHT - 1 else y        \n",
    "        elif action == LEFT:\n",
    "            x = x - 1 if x != 0 else x \n",
    "        else: \n",
    "            x = x + 1 if x != WORLD_WIDTH - 1 else x\n",
    "        if (x, y) in self.obs:\n",
    "            x, y = self.state\n",
    "        if (x, y) == self.end:\n",
    "            reward = 1\n",
    "            done = True\n",
    "        self.state = (x, y)\n",
    "        return self.state, reward, done \n",
    "        \n",
    "    def reset(self):\n",
    "        self.state = self.start\n",
    "        return self.state       "
   ]
  },
  {
   "cell_type": "code",
   "execution_count": 3,
   "metadata": {
    "collapsed": true
   },
   "outputs": [],
   "source": [
    "def epsilon_greedy_policy(Q, epsilon, nA):\n",
    "    def policy_fn(observation):\n",
    "        policy = np.ones(nA, dtype=float) * epsilon / nA\n",
    "        best_actions = np.argwhere(Q[observation] == np.amax(Q[observation]))\n",
    "        best_action = random.choice(best_actions)[0]\n",
    "        policy[best_action] += 1.0 - epsilon\n",
    "        return policy\n",
    "    return policy_fn"
   ]
  },
  {
   "cell_type": "markdown",
   "metadata": {},
   "source": [
    "### Tabular model\n",
    "- **Model Learning**: MDP를 model로 나타내기 위한 model learning 과정이 필요하다. tabular의 경우에서는 단순히 지나온 state, action, reward, next_state를 model내에 기억하는 과정이 이에 해당된다. \n",
    "- **Model Planning**: 학습한 model로 value function을 improve한다. tabular의 경우에는 무작위로 state를 뽑은 뒤 이에 대한 action을 다시 무작위로 뽑는다. 그리고 뽑은 state, action에 대한 reward, next_state를 구할 수 있고 이 정보로 value function을 improve하면 끝!"
   ]
  },
  {
   "cell_type": "code",
   "execution_count": null,
   "metadata": {
    "collapsed": true
   },
   "outputs": [],
   "source": [
    "class TabularModel:\n",
    "    \n",
    "    def __init__(self):\n",
    "        # 여기서 model에 대해서 모른다고 가정을 해야 하나?\n",
    "        self.model = dict()\n",
    "        \n",
    "    def feed(self, state, action, reward, next_state):\n",
    "        if state not in self.model.keys():\n",
    "            self.model[state] = dict()\n",
    "        self.model[state][action] = (reward, next_state)\n",
    "    \n",
    "    def sampling(self):\n",
    "        state_index = np.random.choice(len(self.model))\n",
    "        state = list(self.model)[state_index]\n",
    "        action_index = np.random.choice(len(self.model[state]))\n",
    "        action = list(self.model[state])[action_index]\n",
    "        reward, next_state = self.model[state][action]\n",
    "        return state, action, reward, next_state"
   ]
  },
  {
   "cell_type": "markdown",
   "metadata": {},
   "source": [
    "### Time에 대한 고려 \n",
    "Figure 8.6와 같이 중간에 maze가 변해서 유리한 경로가 생길 경우에 기존 모델은 더 나은 경로를 찾지 못하게 된다. 그래서, 시간에 대한 항을 고려하고 이에 대한 bonus reward를 줘서 다른 경로에 대한 가능성을 계속 열어둔다."
   ]
  },
  {
   "cell_type": "code",
   "execution_count": 169,
   "metadata": {
    "collapsed": true
   },
   "outputs": [],
   "source": [
    "class TimeModel:\n",
    "\n",
    "    # @maze: the maze instance. Indeed it's not very reasonable to give access to maze to the model.\n",
    "    # @timeWeight: also called kappa, the weight for elapsed time in sampling reward, it need to be small\n",
    "    # @rand: an instance of np.random.RandomState for sampling\n",
    "    \n",
    "    def __init__(self, env, kappa=5e-4):\n",
    "        # 여기서 model에 대해서 모른다고 가정을 해야 하나?\n",
    "        self.model = dict()\n",
    "        self.env = env\n",
    "        self.kappa = kappa\n",
    "        self.time = 0\n",
    "        \n",
    "    def feed(self, state, action, reward, next_state):\n",
    "        self.time += 1\n",
    "        if state not in self.model.keys():\n",
    "            self.model[state] = dict()            \n",
    "            # 아직 안 본 action에 대해서도 값을 넣어준다. 학습 내내 선택받지 못하는 action에 대한 값을 줌으로써 \n",
    "            # exploration 가능성을 열어 둠. \n",
    "            for _action in range(self.env.nA):\n",
    "                if _action != action:\n",
    "                    self.model[state][_action] = (0, state, 1)\n",
    "                    \n",
    "        self.model[state][action] = (reward, next_state, self.time)\n",
    "\n",
    "    def sampling(self):\n",
    "        state_index = np.random.choice(len(self.model))\n",
    "        state = list(self.model)[state_index]\n",
    "        action_index = np.random.choice(len(self.model[state]))\n",
    "        action = list(self.model[state])[action_index]\n",
    "        reward, next_state, time = self.model[state][action]\n",
    "        \n",
    "        # 매번 가면 영향력이 거의 없다. 근데 계속 선택받지 못하면 영향력이 점점 커져서 어느 순간 reward가 커지게 된다. \n",
    "        # 그럼 explore 해보고 어차피 다음 cycle 돌면 영향력이 다시 작아져서 괜찮은 path면 사용하는 거고 아니면 다시 오랫동안 안 쓰인다. \n",
    "        reward += self.kappa * np.sqrt(self.time - time)\n",
    "        return state, action, reward, next_state      "
   ]
  },
  {
   "cell_type": "markdown",
   "metadata": {},
   "source": [
    "### Dyna-Q\n",
    "Model-based, Model-free를 합친 알고리즘이다. 두 가지 모두 Q-learning으로 evaluation을 한 뒤 학습한다.\n",
    "\n",
    "![dyna Q](../images/dyna_Q.png)\n",
    "<center> 출처: Reinforcement Learning : An Introduction. Richard S. Sutton and Andrew G. Barto. 2017 (pp. 135) </center>"
   ]
  },
  {
   "cell_type": "code",
   "execution_count": 170,
   "metadata": {
    "collapsed": true
   },
   "outputs": [],
   "source": [
    "class Dyna_Q:\n",
    "    \n",
    "    def __init__(self, env, policy_fn, discount_factor, alpha, epsilon, model, n):\n",
    "        self.env = env\n",
    "        self.discount_factor = discount_factor\n",
    "        self.alpha = alpha\n",
    "        self.model = model\n",
    "        self.Q = defaultdict(lambda: np.zeros(self.env.nA))\n",
    "        self.policy = policy_fn(self.Q, epsilon, self.env.nA)\n",
    "        self.n = n\n",
    "\n",
    "    def learning(self):\n",
    "        steps = 0\n",
    "        state = self.env.reset()\n",
    "        while True:\n",
    "            steps += 1\n",
    "            action = np.random.choice(self.env.nA, p=self.policy(state))            \n",
    "            next_state, reward, done = self.env.step(action)\n",
    "            self.Q[state][action] += alpha * (reward + discount_factor * max(self.Q[next_state]) - self.Q[state][action])\n",
    "            self.model.feed(state, action, reward, next_state)\n",
    "            for j in range(self.n):\n",
    "                state_sample, action_sample, reward_sample, next_state_sample = self.model.sampling()\n",
    "                self.Q[state_sample][action_sample] += alpha * (reward_sample + discount_factor \\\n",
    "                                                  * max(self.Q[next_state_sample]) - self.Q[state_sample][action_sample])\n",
    "            if done:\n",
    "                break\n",
    "            state = next_state\n",
    "        return steps\n",
    "    \n",
    "    def rendering(self):\n",
    "        grid = np.zeros([6, 9])\n",
    "        it = np.nditer(grid, flags=['multi_index'])\n",
    "        while not it.finished:\n",
    "            s = it.iterindex\n",
    "            y, x = it.multi_index\n",
    "            if (x, y) in self.env.obs:\n",
    "                print('x', end=' ')\n",
    "            elif (x, y) in self.Q.keys():\n",
    "                policy = np.argmax(self.Q[(x, y)])\n",
    "                if policy == 0:\n",
    "                    print('^', end=' ')\n",
    "                elif policy == 1:\n",
    "                    print('v', end=' ')\n",
    "                elif policy == 2:\n",
    "                    print('<', end=' ')\n",
    "                elif policy == 3:\n",
    "                    print('>', end=' ')\n",
    "            else:\n",
    "                print('o', end=' ')                    \n",
    "            if (s + 1) % 9 == 0:\n",
    "                print('', end = '\\n')\n",
    "            it.iternext()"
   ]
  },
  {
   "cell_type": "markdown",
   "metadata": {},
   "source": [
    "### Figure 8.3\n",
    "\n",
    "planning 유무에 따른 수렴 속도 비교이다. planning을 할 경우에 수렴이 몇 episode를 안 거치고 수렴되는 것을 볼 수 있다."
   ]
  },
  {
   "cell_type": "code",
   "execution_count": 177,
   "metadata": {},
   "outputs": [
    {
     "data": {
      "image/png": "[encoded data removed]",
      "text/plain": [
       "<matplotlib.figure.Figure at 0x7f3957a415c0>"
      ]
     },
     "metadata": {},
     "output_type": "display_data"
    }
   ],
   "source": [
    "env = SimpleMaze()\n",
    "discount_factor = 0.95\n",
    "epsilon = 0.1\n",
    "alpha = 0.1\n",
    "num_episodes = 50\n",
    "model = TabularModel()\n",
    "num_plannings = [0, 5]\n",
    "\n",
    "for n in num_plannings:    \n",
    "    dyna_q = Dyna_Q(env, epsilon_greedy_policy, discount_factor, alpha, epsilon, model, n)    \n",
    "    time_step_per_episode = []\n",
    "    for i in range(num_episodes):\n",
    "        time_step_per_episode.append(dyna_q.learning())\n",
    "        \n",
    "    plt.plot(np.arange(num_episodes), time_step_per_episode, label='{} planning'.format(n))\n",
    "    plt.legend()\n",
    "plt.show()"
   ]
  },
  {
   "cell_type": "markdown",
   "metadata": {},
   "source": [
    "### Figure 8.6\n",
    "학습 중간에 장애물이 변경되어 유리한 경로가 생겼을 경우에 `TabularModel`을 사용한 Dyna-Q는 유리한 경로를 찾지 못한다. 대신 `TimeModel`을 사용한 Dyna-Q+는 유리한 경로를 찾아서 더 빠르게 reward를 얻는다. "
   ]
  },
  {
   "cell_type": "code",
   "execution_count": 187,
   "metadata": {
    "collapsed": true
   },
   "outputs": [],
   "source": [
    "# 한번만 실행해주기 위해서 만든 코드. \n",
    "# https://stackoverflow.com/questions/4103773/efficient-way-of-having-a-function-only-execute-once-in-a-loop\n",
    "def run_once(f):\n",
    "    def wrapper(*args, **kwargs):\n",
    "        if not wrapper.has_run:\n",
    "            wrapper.has_run = True\n",
    "            return f(*args, **kwargs)\n",
    "    wrapper.has_run = False\n",
    "    return wrapper\n",
    "\n",
    "def change_obs(env):\n",
    "    env.obs = [(i, 3) for i in range(1, 8)]\n",
    "    return 1"
   ]
  },
  {
   "cell_type": "code",
   "execution_count": 209,
   "metadata": {
    "scrolled": true
   },
   "outputs": [
    {
     "data": {
      "image/png": "[encoded data removed]",
      "text/plain": [
       "<matplotlib.figure.Figure at 0x7f3957c54400>"
      ]
     },
     "metadata": {},
     "output_type": "display_data"
    }
   ],
   "source": [
    "discount_factor = 0.95\n",
    "epsilon = 0.1\n",
    "alpha = 0.7\n",
    "models = [TimeModel(BlockMaze()), TabularModel()]\n",
    "\n",
    "for model in models:\n",
    "    env = BlockMaze()\n",
    "    dyna_q = Dyna_Q(env, epsilon_greedy_policy, discount_factor, alpha, epsilon, model, 5)\n",
    "\n",
    "    time_steps = [0]\n",
    "    rewards = 0\n",
    "    action = run_once(change_obs)\n",
    "\n",
    "    while True:\n",
    "        steps = dyna_q.learning()\n",
    "        rewards += 1\n",
    "        time_steps.append(steps + time_steps[-1])\n",
    "        if time_steps[-1] > 3000:\n",
    "            action(dyna_q.env)\n",
    "        if time_steps[-1] > 6000:\n",
    "            break\n",
    "    plt.plot(time_steps, np.arange(rewards + 1), label='{}'.format(model.__class__.__name__))\n",
    "    plt.legend()\n",
    "plt.show()"
   ]
  },
  {
   "cell_type": "code",
   "execution_count": 176,
   "metadata": {
    "scrolled": false
   },
   "outputs": [
    {
     "name": "stdout",
     "output_type": "stream",
     "text": [
      "> > v > v v v ^ ^ \n",
      "> > > > v v v v ^ \n",
      "> > > > > > > > ^ \n",
      "^ x x x x x x x ^ \n",
      "^ > > > > > > > ^ \n",
      "^ > ^ ^ > > ^ > ^ \n"
     ]
    }
   ],
   "source": [
    "dyna_q.rendering()"
   ]
  }
 ],
 "metadata": {
  "kernelspec": {
   "display_name": "Python 3",
   "language": "python",
   "name": "python3"
  },
  "language_info": {
   "codemirror_mode": {
    "name": "ipython",
    "version": 3
   },
   "file_extension": ".py",
   "mimetype": "text/x-python",
   "name": "python",
   "nbconvert_exporter": "python",
   "pygments_lexer": "ipython3",
   "version": "3.6.1"
  }
 },
 "nbformat": 4,
 "nbformat_minor": 2
}
