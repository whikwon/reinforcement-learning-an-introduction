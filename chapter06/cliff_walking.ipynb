{
 "cells": [
  {
   "cell_type": "markdown",
   "metadata": {},
   "source": [
    "### Cliff walking\n",
    "1. 문제: 12x4 격자로 이루어진 판 위의 특정 환경(절벽)에서 이동할 때 최적의 policy, value function을 **Sarsa, Q-learning**을 통해 구하고 비교해보자.\n",
    "2. 조건\n",
    "    - state: 말의 위치\n",
    "    - action: 상,하,좌,우\n",
    "    - reward: 이동(-1), 목적지 도달(0), 절벽으로 추락(-100)\n",
    "3. 학습 목표\n",
    "    - Sarsa\n",
    "    - Q-learning \n",
    "    - 위 학습 방법들 간의 특징에 의한 차이점 확인 "
   ]
  },
  {
   "cell_type": "code",
   "execution_count": 1,
   "metadata": {},
   "outputs": [],
   "source": [
    "import numpy as np\n",
    "from collections import defaultdict\n",
    "import matplotlib.pyplot as plt\n",
    "from itertools import count"
   ]
  },
  {
   "cell_type": "markdown",
   "metadata": {},
   "source": [
    "#### Cliff walking\n",
    "- 아래 그림에서와 같이 아래 부분에 절벽이 존재하며 도달 시에 큰 패널티가 부여된다. \n",
    "- 출발 지점(S)와 도착 지점(G)가 정해져 있다.  \n",
    "\n",
    "![cliff walking](../images/cliff_walking.png)\n",
    "<center> 출처: Reinforcement Learning : An Introduction. Richard S. Sutton and Andrew G. Barto. 2017 (pp. 108) </center>"
   ]
  },
  {
   "cell_type": "code",
   "execution_count": 6,
   "metadata": {},
   "outputs": [],
   "source": [
    "START = 36\n",
    "END = 47\n",
    "WORLD_WIDTH = 12\n",
    "WORLD_HEIGHT = 4\n",
    "UP, DOWN, LEFT, RIGHT = 0, 1, 2, 3\n",
    "\n",
    "class CliffWalking:\n",
    "    def __init__(self):        \n",
    "        grid = np.zeros([WORLD_HEIGHT, WORLD_WIDTH])\n",
    "        self.nA = 4\n",
    "        self.nS = np.prod(grid.shape)\n",
    "        it = np.nditer(grid, flags=['multi_index'])\n",
    "        P = defaultdict(lambda: [[] for i in range(self.nA)])\n",
    "        while not it.finished:\n",
    "            s = it.iterindex\n",
    "            y, x = it.multi_index\n",
    "\n",
    "            s_up = s - WORLD_WIDTH if y != 0 else s \n",
    "            s_down = s + WORLD_WIDTH if y != 3 else s \n",
    "            s_left = s - 1 if x != 0 else s\n",
    "            s_right = s + 1 if x != 11 else s \n",
    "        \n",
    "            if y == 3 and 1 <= x <= 10:\n",
    "                P[s][UP] = P[s][DOWN] = P[s][LEFT] = P[s][RIGHT] = [1.0, START, -100, False]\n",
    "            elif s == END:\n",
    "                P[s][UP] = P[s][DOWN] = P[s][LEFT] = P[s][RIGHT] = [1.0, s, 0, True]\n",
    "            else:\n",
    "                P[s][UP] = [1.0, s_up, -1, False]\n",
    "                P[s][DOWN] = [1.0, s_down, -1, False]\n",
    "                P[s][LEFT] = [1.0, s_left, -1, False]\n",
    "                P[s][RIGHT] = [1.0, s_right, -1, False]\n",
    "                \n",
    "            it.iternext()\n",
    "        self.P = P\n",
    "    \n",
    "    def reset(self):\n",
    "        self.state = START\n",
    "        return self.state\n",
    "    \n",
    "    def step(self, action): \n",
    "        prob, next_state, reward, done = self.P[self.state][action] \n",
    "        self.state = next_state \n",
    "        return prob, next_state, reward, done "
   ]
  },
  {
   "cell_type": "markdown",
   "metadata": {},
   "source": [
    "#### Epsilon greedy policy \n",
    "Exploration을 위해 일정한 확률(주로 낮은) $\\epsilon$로 모든 action 중에 무작위로 선택하도록 한다.\n",
    "\n",
    "$\\pi(a \\lvert s) \\leftarrow \\left\\{\n",
    "            \\begin{array}{ll}\n",
    "              1 - \\epsilon + \\epsilon/ \\lvert \\mathcal{A}(s) \\rvert \\text{ if } a = A^{\\ast}\\\\\n",
    "              \\epsilon/ \\lvert \\mathcal{A}(s) \\rvert \\text{ if } a \\neq A^{\\ast}\n",
    "            \\end{array}\n",
    "        \\right.$"
   ]
  },
  {
   "cell_type": "code",
   "execution_count": 7,
   "metadata": {},
   "outputs": [],
   "source": [
    "def epsilon_greedy_policy(Q, epsilon, nA):\n",
    "    def policy_fn(observation):\n",
    "        policy = np.ones(nA, dtype=float) * epsilon / nA\n",
    "        best_action = np.argmax(Q[observation])\n",
    "        policy[best_action] += 1.0 - epsilon\n",
    "        return policy\n",
    "    return policy_fn"
   ]
  },
  {
   "cell_type": "markdown",
   "metadata": {},
   "source": [
    "#### Sarsa\n",
    "현재 time step($t$)에서의 state($S_t$), action($A_t$)와 다음 time step($t+1$)에서의 state($S_{t+1}$), action($A_{t+1}$), reward($R_{t+1}$)을 고려해서 최적의 action-value function($Q$)을 찾는 방법을 **Sarsa** 라고 한다.\n",
    "\n",
    "$Q(S_t, A_t) \\leftarrow Q(S_t, A_t) + \\alpha \\big [ R_{t+1} + \\gamma Q(S_{t+1}, A_{t+1}) - Q(S_t, A_t) \\big ]$"
   ]
  },
  {
   "cell_type": "code",
   "execution_count": 8,
   "metadata": {},
   "outputs": [],
   "source": [
    "def sarsa(env, num_episodes, policy_fn, discount_factor=1.0, alpha=0.5, epsilon=0.1):\n",
    "    Q = np.zeros([env.nS, env.nA])\n",
    "    policy = policy_fn(Q, epsilon, env.nA)\n",
    "    counter = [0]\n",
    "    rewards = []\n",
    "    for i_episode in range(num_episodes):\n",
    "        state = env.reset()\n",
    "        rewards.append(0)\n",
    "        for t in count(): \n",
    "            action = np.random.choice(env.nA, p=policy(state))\n",
    "            prob, next_state, reward, done = env.step(action)\n",
    "            rewards[-1] += reward\n",
    "            next_action = np.random.choice(env.nA, p=policy(next_state))\n",
    "            Q[state][action] += alpha * (reward + discount_factor * \\\n",
    "                                         Q[next_state][next_action] - Q[state][action])\n",
    "            if done:\n",
    "                counter.append(counter[-1] + t + 1)\n",
    "                break\n",
    "            state = next_state\n",
    "            action = next_action \n",
    "    return Q, counter, rewards"
   ]
  },
  {
   "cell_type": "code",
   "execution_count": 9,
   "metadata": {},
   "outputs": [],
   "source": [
    "env = CliffWalking()\n",
    "Q_sarsa, counter_sarsa, rewards_sarsa = sarsa(env, 1000, epsilon_greedy_policy)"
   ]
  },
  {
   "cell_type": "markdown",
   "metadata": {},
   "source": [
    "### Q-Learning: Off-policy TD Control\n",
    "Q-learning은 TD control 알고리즘을 off-policy learning으로 학습하는 것으로 볼 수 있다. **off-policy**는 action을 sampling할 때의 behavior policy와 학습할 때 목표가되는  target policy가 다른 경우를 의미한다. \n",
    "\n",
    "Q-learning에서 target policy는 $\\underset a {\\max}Q(S_{t+1}, a)$, optimal action을 갖고 behavior policy는 $Q$로부터 $\\epsilon$-greedy한 action을 갖는다. (*Importance sampling을 하지 않는 off-policy 방법이다.*)\n",
    "\n",
    "$Q(S_t, A_t) \\leftarrow Q(S_t, A_t) + \\alpha \\big [ R_{t+1} + \\gamma \\underset a {\\max} Q(S_{t+1}, a) - Q(S_t, A_t) \\big ]$\n"
   ]
  },
  {
   "cell_type": "code",
   "execution_count": 10,
   "metadata": {},
   "outputs": [],
   "source": [
    "def q_learning(env, num_episodes, policy_fn, discount_factor=1.0, alpha=0.5, epsilon=0.1):\n",
    "    Q = np.zeros([env.nS, env.nA])\n",
    "    policy = policy_fn(Q, epsilon, env.nA)\n",
    "    counter = [0]\n",
    "    rewards = []\n",
    "    for i_episode in range(num_episodes):\n",
    "        state = env.reset()\n",
    "        rewards.append(0)\n",
    "        for t in count():    \n",
    "            action = np.random.choice(env.nA, p=policy(state))\n",
    "            prob, next_state, reward, done = env.step(action)\n",
    "            rewards[-1] += reward\n",
    "            Q[state][action] += alpha * (reward + discount_factor * max(Q[next_state])\\\n",
    "                                         - Q[state][action])\n",
    "            if done:\n",
    "                counter.append(counter[-1] + t + 1)\n",
    "                break \n",
    "            state = next_state\n",
    "    return Q, counter, rewards"
   ]
  },
  {
   "cell_type": "code",
   "execution_count": 11,
   "metadata": {},
   "outputs": [],
   "source": [
    "Q_q, counter_q, rewards_q = q_learning(env, 1000, epsilon_greedy_policy)"
   ]
  },
  {
   "cell_type": "code",
   "execution_count": 12,
   "metadata": {},
   "outputs": [],
   "source": [
    "rewards_sarsa = [max(i, -100) for i in rewards_sarsa]\n",
    "rewards_q = [max(i, -100) for i in rewards_q]"
   ]
  },
  {
   "cell_type": "code",
   "execution_count": 13,
   "metadata": {},
   "outputs": [],
   "source": [
    "smoothedrewards_sarsa = np.copy(rewards_sarsa)\n",
    "smoothedrewards_q = np.copy(rewards_q)\n",
    "for i in range(10, 1000):\n",
    "    smoothedrewards_sarsa[i] = np.mean(rewards_sarsa[i - 10: i + 1])\n",
    "    smoothedrewards_q[i] = np.mean(rewards_q[i - 10: i + 1])"
   ]
  },
  {
   "cell_type": "markdown",
   "metadata": {},
   "source": [
    "#### 학습 속도 비교 \n",
    "비슷한 속도로 학습이 되며 Q-learning이 조금 더 빠른 것을 볼 수 있다."
   ]
  },
  {
   "cell_type": "code",
   "execution_count": 14,
   "metadata": {
    "scrolled": true
   },
   "outputs": [
    {
     "data": {
      "text/plain": [
       "[<matplotlib.lines.Line2D at 0x7ff7d8641eb8>]"
      ]
     },
     "execution_count": 14,
     "metadata": {},
     "output_type": "execute_result"
    },
    {
     "data": {
      "text/plain": [
       "[<matplotlib.lines.Line2D at 0x7ff7d864fa20>]"
      ]
     },
     "execution_count": 14,
     "metadata": {},
     "output_type": "execute_result"
    },
    {
     "data": {
      "text/plain": [
       "<matplotlib.text.Text at 0x7ff7da707940>"
      ]
     },
     "execution_count": 14,
     "metadata": {},
     "output_type": "execute_result"
    },
    {
     "data": {
      "text/plain": [
       "<matplotlib.text.Text at 0x7ff7d8668240>"
      ]
     },
     "execution_count": 14,
     "metadata": {},
     "output_type": "execute_result"
    },
    {
     "data": {
      "text/plain": [
       "<matplotlib.legend.Legend at 0x7ff7d864f0f0>"
      ]
     },
     "execution_count": 14,
     "metadata": {},
     "output_type": "execute_result"
    },
    {
     "data": {
      "image/png": "[encoded data removed]",
      "text/plain": [
       "<matplotlib.figure.Figure at 0x7ff7da718e80>"
      ]
     },
     "metadata": {},
     "output_type": "display_data"
    }
   ],
   "source": [
    "plt.plot(counter_sarsa, np.arange(len(counter_sarsa)),label='sarsa')\n",
    "plt.plot(counter_q, np.arange(len(counter_sarsa)), label='q-learning')\n",
    "plt.xlabel('Time steps')\n",
    "plt.ylabel('Episodes')\n",
    "plt.legend()\n",
    "plt.show()"
   ]
  },
  {
   "cell_type": "markdown",
   "metadata": {},
   "source": [
    "#### Figure 6.4\n",
    "Q-learning이 Sarsa와 비교했을 때 더 risky 하게 cliff에 붙어서 이동하기 때문에 펴여균적인 reward가 낮은 것을 볼 수 있다. (*책의 그래프에 비해 smooth 하지 않은 차이가 있는데 책에서는 10번 수행한 결과를 평균내서 그렇다.*)\n",
    "\n",
    "그 이유는 sarsa의 경우에는 on-policy로 target, behavior policy를 같이 다루기 때문에 cliff에 빠질 경우 이를 학습해서 돌아가지 않는 방향으로 학습한다. 하지만 Q-learning의 경우에는 target policy를 max로 가져가기 때문에 현재 상태에서 cliff에 빠지더라도 계속해서 최적의 길로 가려고 한다. (*계속 빠진다.*)"
   ]
  },
  {
   "cell_type": "code",
   "execution_count": 15,
   "metadata": {},
   "outputs": [
    {
     "data": {
      "text/plain": [
       "[<matplotlib.lines.Line2D at 0x7ff7d85a3eb8>]"
      ]
     },
     "execution_count": 15,
     "metadata": {},
     "output_type": "execute_result"
    },
    {
     "data": {
      "text/plain": [
       "[<matplotlib.lines.Line2D at 0x7ff7da718be0>]"
      ]
     },
     "execution_count": 15,
     "metadata": {},
     "output_type": "execute_result"
    },
    {
     "data": {
      "text/plain": [
       "<matplotlib.text.Text at 0x7ff7d85b64e0>"
      ]
     },
     "execution_count": 15,
     "metadata": {},
     "output_type": "execute_result"
    },
    {
     "data": {
      "text/plain": [
       "<matplotlib.text.Text at 0x7ff7da6f12b0>"
      ]
     },
     "execution_count": 15,
     "metadata": {},
     "output_type": "execute_result"
    },
    {
     "data": {
      "text/plain": [
       "(-100, 0)"
      ]
     },
     "execution_count": 15,
     "metadata": {},
     "output_type": "execute_result"
    },
    {
     "data": {
      "text/plain": [
       "<matplotlib.legend.Legend at 0x7ff7d852c978>"
      ]
     },
     "execution_count": 15,
     "metadata": {},
     "output_type": "execute_result"
    },
    {
     "data": {
      "image/png": "[encoded data removed]",
      "text/plain": [
       "<matplotlib.figure.Figure at 0x7ff7da718ba8>"
      ]
     },
     "metadata": {},
     "output_type": "display_data"
    }
   ],
   "source": [
    "plt.plot(smoothedrewards_sarsa, label = 'sarsa')\n",
    "plt.plot(smoothedrewards_q, label = 'q_learning')\n",
    "plt.xlabel('Episodes')\n",
    "plt.ylabel('Sum of rewards during episode')\n",
    "plt.ylim([-100, 0])\n",
    "plt.legend()\n",
    "plt.show()"
   ]
  },
  {
   "cell_type": "markdown",
   "metadata": {},
   "source": [
    "최종적으로 두 학습 방법이 다른 optimal action을 갖는 것을 확인할 수 있다.\n",
    "- Sarsa: cliff에 떨어져서 이동한다.\n",
    "- Q-learning: cliff에 붙어서 이동한다. "
   ]
  },
  {
   "cell_type": "code",
   "execution_count": 13,
   "metadata": {
    "collapsed": true
   },
   "outputs": [],
   "source": [
    "def render(Q):\n",
    "    for j, i in enumerate(np.argmax(Q, axis=1)):\n",
    "        if i == 0:\n",
    "            print('^', end=',')\n",
    "        elif i == 1:\n",
    "            print('v', end=',')\n",
    "        elif i == 2:\n",
    "            print('<', end=',')\n",
    "        else:\n",
    "            print('>', end=',')\n",
    "        if (j + 1) % 12 == 0:\n",
    "            print('\\n')"
   ]
  },
  {
   "cell_type": "code",
   "execution_count": 14,
   "metadata": {},
   "outputs": [
    {
     "name": "stdout",
     "output_type": "stream",
     "text": [
      "Q_learning: 500 steps\n",
      ">,>,<,>,^,>,>,>,>,v,v,v,\n",
      "\n",
      ">,v,>,>,>,>,>,v,v,>,v,v,\n",
      "\n",
      ">,>,>,>,>,>,>,>,>,>,>,v,\n",
      "\n",
      "^,^,<,v,v,^,v,^,>,<,>,^,\n",
      "\n",
      "Sarsa: 500 steps\n",
      ">,>,>,>,>,>,>,>,>,>,v,v,\n",
      "\n",
      ">,>,>,>,>,>,>,>,^,^,>,v,\n",
      "\n",
      "^,^,^,^,^,^,^,^,<,^,>,v,\n",
      "\n",
      "^,^,>,^,>,v,>,v,^,>,v,^,\n",
      "\n"
     ]
    }
   ],
   "source": [
    "print(\"Q_learning: 500 steps\")\n",
    "render(Q_q)\n",
    "print(\"Sarsa: 500 steps\")\n",
    "render(Q_sarsa)"
   ]
  }
 ],
 "metadata": {
  "kernelspec": {
   "display_name": "Python 3.6",
   "language": "python",
   "name": "base"
  },
  "language_info": {
   "codemirror_mode": {
    "name": "ipython",
    "version": 3
   },
   "file_extension": ".py",
   "mimetype": "text/x-python",
   "name": "python",
   "nbconvert_exporter": "python",
   "pygments_lexer": "ipython3",
   "version": "3.6.1"
  }
 },
 "nbformat": 4,
 "nbformat_minor": 2
}
