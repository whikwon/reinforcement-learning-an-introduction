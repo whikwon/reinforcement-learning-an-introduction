{
 "cells": [
  {
   "cell_type": "markdown",
   "metadata": {},
   "source": [
    "### Windy Gridworld\n",
    "1. 문제: 7x10(가로x세로) grid 내에서 특정 구간은 바람이 불어서 위로 이동하게 되어 있다. 이 때, 최종 도착지점까지 도달하는 문제를 sarsa로 학습시켜 optimal action-value function을 구해보자.\n",
    "2. 조건: \n",
    "    - state: grid 내 위치 \n",
    "    - action: 상, 하, 좌, 우로 이동\n",
    "    - reward: 이동 시 -1, 도착 지점 도달 시 +1 \n",
    "    - terminal: (3, 7) 혹은 37\n",
    "    - start: (3, 0) 혹은 30 \n",
    "    - policy: random policy로 시작하고 sarsa로 학습하면서 optimal policy로 수렴한다.\n",
    "3. 학습 목표\n",
    "    - Sarsa (on-policy TD control) "
   ]
  },
  {
   "cell_type": "code",
   "execution_count": 1,
   "metadata": {
    "collapsed": true
   },
   "outputs": [],
   "source": [
    "import numpy as np\n",
    "from collections import defaultdict\n",
    "import matplotlib.pyplot as plt"
   ]
  },
  {
   "cell_type": "code",
   "execution_count": 2,
   "metadata": {
    "collapsed": true
   },
   "outputs": [],
   "source": [
    "START = 30\n",
    "END = 37\n",
    "WORLD_WIDTH = 10\n",
    "WORLD_HEIGHT = 7\n",
    "UP, DOWN, LEFT, RIGHT = 0, 1, 2, 3\n",
    "\n",
    "class WindyGridworld:\n",
    "    def __init__(self):\n",
    "        self.nA = 4\n",
    "        self.nS = WORLD_HEIGHT * WORLD_WIDTH\n",
    "        grid = np.zeros([WORLD_HEIGHT, WORLD_WIDTH])\n",
    "        it = np.nditer(grid, flags=['multi_index'])\n",
    "        P = defaultdict(lambda: [[] for i in range(self.nA)])              \n",
    "        while not it.finished:\n",
    "            s = it.iterindex\n",
    "            y, x = it.multi_index            \n",
    "            # 형태는 [prob, next_state, reward, done]            \n",
    "            is_done = lambda s: s == END          \n",
    "            if is_done(s):\n",
    "                P[s][UP] = [1.0, s, 1, True]\n",
    "                P[s][DOWN] = [1.0, s, 1, True]\n",
    "                P[s][LEFT] = [1.0, s, 1, True]\n",
    "                P[s][RIGHT] = [1.0, s, 1, True]\n",
    "            else:\n",
    "                wind = 0\n",
    "                if 3 <= x <= 5 or x == 8:\n",
    "                    wind = WORLD_WIDTH\n",
    "                elif 6 <= x <= 7:\n",
    "                    wind = 2 * WORLD_WIDTH                \n",
    "                s_up = max(x, s - WORLD_WIDTH - wind)\n",
    "                if WORLD_WIDTH - wind < 0:\n",
    "                    s_down = max(x, s + WORLD_WIDTH - wind)\n",
    "                else:\n",
    "                    s_down = s + WORLD_WIDTH - wind if y != 6 else s \n",
    "                s_left = max(x - 1, s - 1 - wind) if x != 0 else max(0, s - wind)\n",
    "                s_right = max(x + 1, s + 1 - wind) if x != 9 else max(0, s - wind)             \n",
    "                P[s][UP] = [1.0, s_up, -1, False]\n",
    "                P[s][DOWN] = [1.0, s_down, -1, False]\n",
    "                P[s][LEFT] = [1.0, s_left, -1, False]\n",
    "                P[s][RIGHT] = [1.0, s_right, -1, False]\n",
    "            it.iternext()\n",
    "        self.P = P\n",
    "                \n",
    "    def step(self, action):\n",
    "        # boundary condition\n",
    "        prob, next_state, reward, done = self.P[self.state][action]\n",
    "        self.state = next_state\n",
    "        return [prob, next_state, reward, done]\n",
    "        \n",
    "    def reset(self):\n",
    "        self.state = START\n",
    "        return self.state"
   ]
  },
  {
   "cell_type": "markdown",
   "metadata": {},
   "source": [
    "### Epsilon greedy policy \n",
    "Exploration을 위해서 일정한 낮은 확률로 최적이 아닌 action을 선택하도록 한다.\n",
    "\n",
    "$\\pi(a \\lvert s) \\leftarrow \\left\\{\n",
    "            \\begin{array}{ll}\n",
    "              1 - \\epsilon + \\epsilon/ \\lvert \\mathcal{A}(s) \\rvert \\text{ if } a = A^{\\ast}\\\\\n",
    "              \\epsilon/ \\lvert \\mathcal{A}(s) \\rvert \\text{ if } a \\neq A^{\\ast}\n",
    "            \\end{array}\n",
    "        \\right.$"
   ]
  },
  {
   "cell_type": "code",
   "execution_count": 3,
   "metadata": {
    "collapsed": true
   },
   "outputs": [],
   "source": [
    "def epsilon_greedy_policy(Q, epsilon, nA):\n",
    "    def policy_fn(observation):\n",
    "        policy = np.ones(nA, dtype=float) * epsilon / nA\n",
    "        best_action = np.argmax(Q[observation])\n",
    "        policy[best_action] += 1.0 - epsilon\n",
    "        return policy\n",
    "    return policy_fn"
   ]
  },
  {
   "cell_type": "markdown",
   "metadata": {},
   "source": [
    "\n",
    "### Sarsa\n",
    "\n",
    "현재 action, state을 기준으로 다음 step으로 넘어갈 때의 reward, next_state, next_action을 토대로 action-value function을 update하는 방법을 **Sarsa** 라고 한다.\n",
    "\n",
    "$Q(S_t, A_t) \\leftarrow Q(S_t, A_t) + \\alpha \\big [ R_{t+1} + \\gamma Q(S_{t+1}, A_{t+1}) - Q(S_t, A_t) \\big ]$"
   ]
  },
  {
   "cell_type": "code",
   "execution_count": 4,
   "metadata": {
    "collapsed": true
   },
   "outputs": [],
   "source": [
    "def sarsa(env, num_episodes, policy_fn, discount_factor=1.0, alpha=0.1, epsilon=0.1):\n",
    "    Q = np.zeros([env.nS, env.nA])\n",
    "    policy = policy_fn(Q, epsilon, env.nA)    \n",
    "    counter = [0]\n",
    "    i = 0\n",
    "    for i_episode in range(num_episodes):\n",
    "        state = env.reset()\n",
    "        while True:\n",
    "            i += 1\n",
    "            action = np.random.choice(env.nA, p=policy(state))\n",
    "            prob, next_state, reward, done = env.step(action)\n",
    "            next_action = np.random.choice(env.nA, p=policy(next_state))\n",
    "            Q[state][action] += alpha * (reward + discount_factor * Q[next_state][next_action] - Q[state][action])\n",
    "            state = next_state\n",
    "            action = next_action \n",
    "            if done:\n",
    "                counter.append(i)\n",
    "                break    \n",
    "    return Q, counter"
   ]
  },
  {
   "cell_type": "code",
   "execution_count": 5,
   "metadata": {
    "collapsed": true
   },
   "outputs": [],
   "source": [
    "env = WindyGridworld()\n",
    "Q, counter = sarsa(env, 170, epsilon_greedy_policy)"
   ]
  },
  {
   "cell_type": "code",
   "execution_count": 6,
   "metadata": {
    "scrolled": true
   },
   "outputs": [
    {
     "data": {
      "image/png": "[encoded data removed]",
      "text/plain": [
       "<matplotlib.figure.Figure at 0x7fbb15fdd550>"
      ]
     },
     "metadata": {},
     "output_type": "display_data"
    }
   ],
   "source": [
    "plt.plot(counter, range(0, len(counter)))\n",
    "plt.xlabel('Time steps')\n",
    "plt.ylabel('Episodes')\n",
    "plt.show()\n"
   ]
  }
 ],
 "metadata": {
  "kernelspec": {
   "display_name": "Python 3",
   "language": "python",
   "name": "python3"
  },
  "language_info": {
   "codemirror_mode": {
    "name": "ipython",
    "version": 3
   },
   "file_extension": ".py",
   "mimetype": "text/x-python",
   "name": "python",
   "nbconvert_exporter": "python",
   "pygments_lexer": "ipython3",
   "version": "3.6.1"
  }
 },
 "nbformat": 4,
 "nbformat_minor": 2
}
