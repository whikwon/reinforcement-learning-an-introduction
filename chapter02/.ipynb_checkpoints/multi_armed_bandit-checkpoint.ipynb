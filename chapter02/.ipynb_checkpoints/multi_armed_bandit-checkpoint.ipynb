{
 "cells": [
  {
   "cell_type": "markdown",
   "metadata": {},
   "source": [
    "### Multi-bandit \n",
    "\n",
    "1. 문제: k개의 팔을 가진 슬롯머신을 돌리면서 가장 reward를 많이 얻는 방향으로 학습하자.\n",
    "2. 조건\n",
    "    - state: 없음\n",
    "    - action: i번째 팔을 작동\n",
    "    - reward: 기계 내부적인 값 + N(0, 1)\n",
    "3. 학습 목표\n",
    "    - bandit algorithm 이해하기\n",
    "         - $\\epsilon$-greedy\n",
    "         - Optimistic initial values\n",
    "         - UCB\n",
    "         - Gradient bandit"
   ]
  },
  {
   "cell_type": "markdown",
   "metadata": {},
   "source": [
    "## TODO\n",
    "1. ucb, bandit 로직 합치는거 수정하기.\n",
    "2. gradient bandit algorithm 구현하기 \n",
    "3. epsilon, greedy, ucb 비교하기"
   ]
  },
  {
   "cell_type": "code",
   "execution_count": 10,
   "metadata": {
    "collapsed": true
   },
   "outputs": [],
   "source": [
    "import numpy as np\n",
    "import matplotlib.pyplot as plt"
   ]
  },
  {
   "cell_type": "code",
   "execution_count": 97,
   "metadata": {
    "collapsed": true
   },
   "outputs": [],
   "source": [
    "class Bandit:\n",
    "    \n",
    "    def __init__(self, k_arms, true_reward, ucb):\n",
    "        self.nA = k_arms\n",
    "        self.true_reward = true_reward\n",
    "        self.q_true = []\n",
    "        self.ucb = ucb\n",
    "        self.time = 1\n",
    "        self.counter = np.ones(self.nA)\n",
    "        \n",
    "        for i in range(0, self.nA):\n",
    "            self.q_true.append(np.random.randn() + self.true_reward)\n",
    "            \n",
    "    def step(self, action):\n",
    "        reward = np.random.randn() + self.q_true[action]\n",
    "        if self.ucb:\n",
    "            self.time += 1\n",
    "            self.counter[action] += 1\n",
    "#             return reward, self.counter[action]\n",
    "        return reward"
   ]
  },
  {
   "cell_type": "code",
   "execution_count": 98,
   "metadata": {
    "collapsed": true
   },
   "outputs": [],
   "source": [
    "def make_epsilon_greedy_policy(Q, epsilon, nA):\n",
    "    def policy_fn():\n",
    "        A = np.ones(nA) * epsilon / nA\n",
    "        best_action = np.argmax(Q)\n",
    "        A[best_action] += (1.0 - epsilon)\n",
    "        return np.random.choice(nA, p=A)\n",
    "    return policy_fn"
   ]
  },
  {
   "cell_type": "code",
   "execution_count": 99,
   "metadata": {
    "collapsed": true
   },
   "outputs": [],
   "source": [
    "def sarsa(env, num_episodes, true_action, epsilon=0, step_size=0.1, ucb_param=2):\n",
    "    Q = np.zeros(env.nA)\n",
    "    reward_sum = np.zeros(env.nA)    \n",
    "    policy = make_epsilon_greedy_policy(Q, epsilon, env.nA)\n",
    "    \n",
    "    best_actions = [0]\n",
    "    for i_episode in range(num_episodes):\n",
    "        if epsilon:\n",
    "            action = policy()\n",
    "        if ucb_param:\n",
    "            action = np.argmax(Q + ucb_param * (np.sqrt(np.log(env.time) / env.counter)))\n",
    "        if action == true_action:\n",
    "            best_actions.append(best_actions[-1] + 1)\n",
    "        else:\n",
    "            best_actions.append(best_actions[-1])\n",
    "        reward = env.step(action)\n",
    "        Q[action] += step_size * (reward - Q[action])\n",
    "        reward_sum[action] += reward\n",
    "    \n",
    "    return Q, reward_sum, best_actions"
   ]
  },
  {
   "cell_type": "code",
   "execution_count": 100,
   "metadata": {
    "collapsed": true,
    "scrolled": true
   },
   "outputs": [],
   "source": [
    "# bandit이랑 sarsa랑 ucb가 겹치는데 어떻게 하나로 줄이지?\n",
    "env = Bandit(10, 0, True)\n",
    "true_best_action = np.argmax(env.q_true)\n",
    "Q, reward_sum, best_actions = sarsa(env, 1000, true_best_action, epsilon=0, step_size=0.1, ucb_param=2)"
   ]
  },
  {
   "cell_type": "code",
   "execution_count": 106,
   "metadata": {},
   "outputs": [
    {
     "data": {
      "image/png": "[encoded data removed]",
      "text/plain": [
       "<matplotlib.figure.Figure at 0x7f1fac879d68>"
      ]
     },
     "metadata": {},
     "output_type": "display_data"
    }
   ],
   "source": [
    "best_actions_percentage = [j / (float(i + 1) * num_iterations) for i, j in enumerate(best_actions_sum[1:])]\n",
    "plt.plot(np.arange(1, 1001), best_actions_percentage, label='ucb c: 2')\n",
    "plt.legend()\n",
    "plt.show()"
   ]
  },
  {
   "cell_type": "markdown",
   "metadata": {},
   "source": [
    "### Figure 2.3\n",
    "\n",
    "- **Optimistic Initial Values** <br>\n",
    "exploration을 위한 매우 간단한 방법이다. 주로 $Q$를 0으로 초기화했는데 이렇게 할 경우에 실제 방문하기 전까지는 해당 state가 아무 쓸모가 없어진다. (*greedy하게 움직일 경우에 실제 방문 안 할 가능성도 높다.*) <br><br>그래서, 약간의 trick으로 초기값을 높게 주게 되면 모든 state에 대해 방문하도록 유도할 수 있다! 대신, 일시적으로 exploration을 하게 끔 하는 것이므로 non-stationary한 경우에는 큰 효과를 기대하기 어렵다. "
   ]
  },
  {
   "cell_type": "code",
   "execution_count": 67,
   "metadata": {},
   "outputs": [
    {
     "data": {
      "image/png": "[encoded data removed]",
      "text/plain": [
       "<matplotlib.figure.Figure at 0x7f1facd45e10>"
      ]
     },
     "metadata": {},
     "output_type": "display_data"
    }
   ],
   "source": [
    "init_Q = [0, 5]\n",
    "epsilon = [0.1, 0]\n",
    "env = Bandit(10, 0, False)\n",
    "num_episodes = 1000\n",
    "num_iterations = 10\n",
    "\n",
    "true_best_action = np.argmax(env.q_true)\n",
    "# estimated_best_action = np.argmax(Q)\n",
    "for q, eps in zip(init_Q, epsilon):\n",
    "    best_actions_sum = []\n",
    "    for k in range(num_iterations):\n",
    "        Q, reward_sum, best_actions = sarsa(env, num_episodes, true_best_action, eps, ucb=False)\n",
    "        best_actions_sum.append(best_actions)\n",
    "    best_actions_sum = np.sum(best_actions_sum, axis=0)\n",
    "    best_actions_percentage = [j / (float(i + 1) * num_iterations) for i, j in enumerate(best_actions_sum[1:])]\n",
    "    plt.plot(np.arange(1, num_episodes + 1), best_actions_percentage, label='Initial Q: {}'.format(q))\n",
    "plt.legend()\n",
    "plt.show()"
   ]
  },
  {
   "cell_type": "code",
   "execution_count": null,
   "metadata": {
    "collapsed": true
   },
   "outputs": [],
   "source": []
  }
 ],
 "metadata": {
  "kernelspec": {
   "display_name": "Python 3",
   "language": "python",
   "name": "python3"
  },
  "language_info": {
   "codemirror_mode": {
    "name": "ipython",
    "version": 3
   },
   "file_extension": ".py",
   "mimetype": "text/x-python",
   "name": "python",
   "nbconvert_exporter": "python",
   "pygments_lexer": "ipython3",
   "version": "3.6.1"
  }
 },
 "nbformat": 4,
 "nbformat_minor": 2
}
