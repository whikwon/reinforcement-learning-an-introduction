{
 "cells": [
  {
   "cell_type": "markdown",
   "metadata": {},
   "source": [
    "### Multi-bandit \n",
    "1. 문제: k개의 팔을 가진 슬롯머신을 돌려서 가장 reward를 많이 얻는 방향으로 학습시켜보자.\n",
    "2. 조건\n",
    "    - state: 없음\n",
    "    - action: i번째 팔을 작동\n",
    "    - reward: 기계 내부적인 값 + N(0, 1)\n",
    "3. 학습 목표\n",
    "    - bandit algorithm 이해하기\n",
    "         - $\\epsilon$-greedy\n",
    "         - Optimistic initial values\n",
    "         - UCB\n",
    "         - Gradient bandit (**# TODO**)"
   ]
  },
  {
   "cell_type": "code",
   "execution_count": null,
   "metadata": {},
   "outputs": [],
   "source": [
    "import numpy as np\n",
    "import matplotlib.pyplot as plt\n",
    "import matplotlib.ticker as mtick\n",
    "\n",
    "%matplotlib inline"
   ]
  },
  {
   "cell_type": "markdown",
   "metadata": {},
   "source": [
    "#### Bandit\n",
    "- k개의 arm 각각의 기댓값은 **입력 값 + $N(0, 1)$** 으로 정해진다. \n",
    "- Bandit을 돌렸을 때의 reward는 **각 arm의 기댓값 + $N(0, 1)$** 으로 반환된다."
   ]
  },
  {
   "cell_type": "code",
   "execution_count": 2,
   "metadata": {},
   "outputs": [],
   "source": [
    "class Bandit:\n",
    "    \n",
    "    def __init__(self, k_arms, true_reward, q_init, ucb_param):\n",
    "        self.nA = k_arms\n",
    "        self.true_reward = true_reward\n",
    "        self.q_init = q_init\n",
    "        self.q_true = []\n",
    "        self.ucb_param = ucb_param\n",
    "        self.time = 1\n",
    "        self.counter = np.ones(self.nA)\n",
    "        \n",
    "        for i in range(0, self.nA):\n",
    "            self.q_true.append(np.random.randn() + self.true_reward)\n",
    "            \n",
    "    def step(self, action):\n",
    "        reward = np.random.randn() + self.q_true[action]\n",
    "        if self.ucb_param:\n",
    "            self.time += 1\n",
    "            self.counter[action] += 1\n",
    "        return reward"
   ]
  },
  {
   "cell_type": "markdown",
   "metadata": {},
   "source": [
    "#### $\\epsilon$-Greedy policy\n",
    "action-value function($Q$)이 가장 큰 action을 $1-\\epsilon$의 확률로 선택하고 일정 확률($\\epsilon$)로 무작위 action을 선택한다.\n",
    "\n",
    "$A \\leftarrow \\left\\{\n",
    "            \\begin{array}{ll}\n",
    "              \\arg \\max_a Q(a) &\\text{ with probability } 1 - \\epsilon\\\\\n",
    "              \\text{a random action } &\\text{ with probability } \\epsilon\\\\\n",
    "            \\end{array}\n",
    "        \\right.$"
   ]
  },
  {
   "cell_type": "code",
   "execution_count": 3,
   "metadata": {},
   "outputs": [],
   "source": [
    "def make_epsilon_greedy_policy(Q, epsilon, nA):\n",
    "    def policy_fn():\n",
    "        A = np.ones(nA) * epsilon / nA\n",
    "        best_action = np.argmax(Q)\n",
    "        A[best_action] += (1.0 - epsilon)\n",
    "        return np.random.choice(nA, p=A)\n",
    "    return policy_fn"
   ]
  },
  {
   "cell_type": "markdown",
   "metadata": {},
   "source": [
    "#### Simple bandit algorithm\n",
    "![sba](../images/simple_bandit_algorithm.png)\n",
    "<center> 출처: Reinforcement Learning : An Introduction. Richard S. Sutton and Andrew G. Barto. 2017 (pp. 24) </center>"
   ]
  },
  {
   "cell_type": "code",
   "execution_count": 1,
   "metadata": {},
   "outputs": [],
   "source": [
    "def simple_bandit(env, num_episodes, true_action, epsilon=0, step_size=0.1):\n",
    "    Q = np.ones(env.nA) * env.q_init\n",
    "    reward_sum = np.zeros(env.nA)    \n",
    "    policy = make_epsilon_greedy_policy(Q, epsilon, env.nA)\n",
    "    \n",
    "    best_actions = [0]\n",
    "    for i_episode in range(num_episodes):        \n",
    "        if env.ucb_param:\n",
    "            action = np.argmax(Q + env.ucb_param * (np.sqrt(np.log(env.time) / env.counter)))\n",
    "        else:\n",
    "            action = policy()\n",
    "            \n",
    "        if action == true_action:\n",
    "            best_actions.append(best_actions[-1] + 1)\n",
    "        else:\n",
    "            best_actions.append(best_actions[-1])\n",
    "            \n",
    "        reward = env.step(action)\n",
    "        Q[action] += step_size * (reward - Q[action])\n",
    "        reward_sum[action] += reward\n",
    "    \n",
    "    return Q, reward_sum, best_actions"
   ]
  },
  {
   "cell_type": "code",
   "execution_count": 2,
   "metadata": {
    "scrolled": true
   },
   "outputs": [
    {
     "ename": "NameError",
     "evalue": "name 'Bandit' is not defined",
     "output_type": "error",
     "traceback": [
      "\u001b[0;31m---------------------------------------------------------------------------\u001b[0m",
      "\u001b[0;31mNameError\u001b[0m                                 Traceback (most recent call last)",
      "\u001b[0;32m<ipython-input-2-b5821014434c>\u001b[0m in \u001b[0;36m<module>\u001b[0;34m()\u001b[0m\n\u001b[0;32m----> 1\u001b[0;31m \u001b[0menv\u001b[0m \u001b[0;34m=\u001b[0m \u001b[0mBandit\u001b[0m\u001b[0;34m(\u001b[0m\u001b[0;36m10\u001b[0m\u001b[0;34m,\u001b[0m \u001b[0;36m0\u001b[0m\u001b[0;34m,\u001b[0m \u001b[0;36m0\u001b[0m\u001b[0;34m,\u001b[0m \u001b[0;36m2\u001b[0m\u001b[0;34m)\u001b[0m\u001b[0;34m\u001b[0m\u001b[0m\n\u001b[0m\u001b[1;32m      2\u001b[0m \u001b[0mtrue_best_action\u001b[0m \u001b[0;34m=\u001b[0m \u001b[0mnp\u001b[0m\u001b[0;34m.\u001b[0m\u001b[0margmax\u001b[0m\u001b[0;34m(\u001b[0m\u001b[0menv\u001b[0m\u001b[0;34m.\u001b[0m\u001b[0mq_true\u001b[0m\u001b[0;34m)\u001b[0m\u001b[0;34m\u001b[0m\u001b[0m\n\u001b[1;32m      3\u001b[0m \u001b[0mnum_iterations\u001b[0m \u001b[0;34m=\u001b[0m \u001b[0;36m10000\u001b[0m\u001b[0;34m\u001b[0m\u001b[0m\n\u001b[1;32m      4\u001b[0m \u001b[0mQ\u001b[0m\u001b[0;34m,\u001b[0m \u001b[0mreward_sum\u001b[0m\u001b[0;34m,\u001b[0m \u001b[0mbest_actions\u001b[0m \u001b[0;34m=\u001b[0m \u001b[0msimple_bandit\u001b[0m\u001b[0;34m(\u001b[0m\u001b[0menv\u001b[0m\u001b[0;34m,\u001b[0m \u001b[0mnum_iterations\u001b[0m\u001b[0;34m,\u001b[0m \u001b[0mtrue_best_action\u001b[0m\u001b[0;34m,\u001b[0m \u001b[0mepsilon\u001b[0m\u001b[0;34m=\u001b[0m\u001b[0;36m0\u001b[0m\u001b[0;34m,\u001b[0m \u001b[0mstep_size\u001b[0m\u001b[0;34m=\u001b[0m\u001b[0;36m0.1\u001b[0m\u001b[0;34m)\u001b[0m\u001b[0;34m\u001b[0m\u001b[0m\n",
      "\u001b[0;31mNameError\u001b[0m: name 'Bandit' is not defined"
     ]
    }
   ],
   "source": [
    "env = Bandit(10, 0, 0, 2)\n",
    "true_best_action = np.argmax(env.q_true)\n",
    "num_iterations = 10000\n",
    "Q, reward_sum, best_actions = simple_bandit(env, num_iterations, true_best_action, epsilon=0, step_size=0.1)"
   ]
  },
  {
   "cell_type": "code",
   "execution_count": 19,
   "metadata": {},
   "outputs": [
    {
     "data": {
      "text/plain": [
       "[<matplotlib.lines.Line2D at 0x7f5dd81a80b8>]"
      ]
     },
     "execution_count": 19,
     "metadata": {},
     "output_type": "execute_result"
    },
    {
     "data": {
      "text/plain": [
       "(0, 100)"
      ]
     },
     "execution_count": 19,
     "metadata": {},
     "output_type": "execute_result"
    },
    {
     "data": {
      "text/plain": [
       "<matplotlib.legend.Legend at 0x7f5dd868c7b8>"
      ]
     },
     "execution_count": 19,
     "metadata": {},
     "output_type": "execute_result"
    },
    {
     "data": {
      "text/plain": [
       "(0, 100)"
      ]
     },
     "execution_count": 19,
     "metadata": {},
     "output_type": "execute_result"
    },
    {
     "data": {
      "image/png": "[encoded data removed]",
      "text/plain": [
       "<matplotlib.figure.Figure at 0x7f5dd822bc18>"
      ]
     },
     "metadata": {},
     "output_type": "display_data"
    }
   ],
   "source": [
    "best_actions_percentage = [j / float(i + 1) * 100 for i, j in enumerate(best_actions[1:])]\n",
    "fig = plt.figure(1, (7,4))\n",
    "ax = fig.add_subplot(1,1,1)\n",
    "ax.plot(np.arange(1, num_iterations + 1), best_actions_percentage, label='ucb c: 2')\n",
    "fmt = '%.0f%%' \n",
    "xticks = mtick.FormatStrFormatter(fmt)\n",
    "ax.yaxis.set_major_formatter(xticks)\n",
    "ax.yaxis.limit_range_for_scale(0, 100)\n",
    "ax.legend()\n",
    "plt.ylim(0, 100)\n",
    "plt.show()"
   ]
  },
  {
   "cell_type": "markdown",
   "metadata": {},
   "source": [
    "### Figure 2.3\n",
    "\n",
    "- **Optimistic Initial Values** <br>\n",
    "exploration을 위한 매우 간단한 방법이다. `simple_bandit_algorithm`에서는 `Q`를 0으로 초기화했다. \n",
    "이 경우에 실제 방문하기 전까지는 해당 state가 아무 쓸모가 없어지고 greedy하게 움직일 경우에 실제 방문 안 할 가능성이 높다. 그래서, 약간의 trick으로 `Q`의 초기값을 일정 수준 높게 초기화 할 경우 action에 대한 각 `Q`의 값이 일정 값 이하로 내려갈 때까지 해당 action을 강제로 취하게 할 수 있다. 대신, 일시적으로(action에 대한 `Q`가 어느 정도 수준 보다 큰 경우) exploration을 하게 끔 하는 것이므로 시간에 따라 action에 대한 reward가 변하는 non-stationary한 경우에는 큰 효과를 기대하기 어렵다. "
   ]
  },
  {
   "cell_type": "code",
   "execution_count": 28,
   "metadata": {},
   "outputs": [
    {
     "data": {
      "text/plain": [
       "[<matplotlib.lines.Line2D at 0x7f5dd83f8588>]"
      ]
     },
     "execution_count": 28,
     "metadata": {},
     "output_type": "execute_result"
    },
    {
     "data": {
      "text/plain": [
       "[<matplotlib.lines.Line2D at 0x7f5dd83f8278>]"
      ]
     },
     "execution_count": 28,
     "metadata": {},
     "output_type": "execute_result"
    },
    {
     "data": {
      "text/plain": [
       "(0, 100)"
      ]
     },
     "execution_count": 28,
     "metadata": {},
     "output_type": "execute_result"
    },
    {
     "data": {
      "text/plain": [
       "<matplotlib.legend.Legend at 0x7f5dd84c9a90>"
      ]
     },
     "execution_count": 28,
     "metadata": {},
     "output_type": "execute_result"
    },
    {
     "data": {
      "text/plain": [
       "(0, 100)"
      ]
     },
     "execution_count": 28,
     "metadata": {},
     "output_type": "execute_result"
    },
    {
     "data": {
      "image/png": "[encoded data removed]",
      "text/plain": [
       "<matplotlib.figure.Figure at 0x7f5dda869a90>"
      ]
     },
     "metadata": {},
     "output_type": "display_data"
    }
   ],
   "source": [
    "Q_init = [0, 5]\n",
    "epsilon = [0.1, 0]\n",
    "env = Bandit(10, 0, 0, 0)\n",
    "num_episodes = 10000\n",
    "num_iterations = 10\n",
    "fig = plt.figure(1, (7,4))\n",
    "ax = fig.add_subplot(1,1,1)\n",
    "\n",
    "true_best_action = np.argmax(env.q_true)\n",
    "# estimated_best_action = np.argmax(Q)\n",
    "for q_init, eps in zip(Q_init, epsilon):\n",
    "    best_actions_sum = []\n",
    "    for k in range(num_iterations):\n",
    "        if q_init > 0:\n",
    "            env.q_init = q_init\n",
    "        Q, reward_sum, best_actions = simple_bandit(env, num_episodes, true_best_action, eps)\n",
    "        best_actions_sum.append(best_actions)\n",
    "    best_actions_sum = np.sum(best_actions_sum, axis=0)\n",
    "    best_actions_percentage = [100 * j / (float(i + 1) * num_iterations) for i, j in enumerate(best_actions_sum[1:])]\n",
    "    # plotting\n",
    "    ax.plot(np.arange(1, num_episodes + 1), best_actions_percentage, label='Initial Q: {}'.format(q_init))\n",
    "fmt = '%.0f%%' \n",
    "xticks = mtick.FormatStrFormatter(fmt)\n",
    "ax.yaxis.set_major_formatter(xticks)\n",
    "ax.yaxis.limit_range_for_scale(0, 100)\n",
    "ax.legend()\n",
    "plt.ylim(0, 100)\n",
    "plt.show()"
   ]
  }
 ],
 "metadata": {
  "kernelspec": {
   "display_name": "Python 3.6",
   "language": "python",
   "name": "base"
  },
  "language_info": {
   "codemirror_mode": {
    "name": "ipython",
    "version": 3
   },
   "file_extension": ".py",
   "mimetype": "text/x-python",
   "name": "python",
   "nbconvert_exporter": "python",
   "pygments_lexer": "ipython3",
   "version": "3.6.1"
  }
 },
 "nbformat": 4,
 "nbformat_minor": 2
}
